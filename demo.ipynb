{
 "cells": [
  {
   "cell_type": "code",
   "execution_count": 3,
   "metadata": {},
   "outputs": [],
   "source": [
    "from mvcl.config import config\n",
    "from mvcl.model import MetaVisualLearner\n",
    "from mvcl.primitives import *\n",
    "from rinarak.domain import Domain, load_domain_string"
   ]
  },
  {
   "cell_type": "code",
   "execution_count": 9,
   "metadata": {},
   "outputs": [
    {
     "data": {
      "image/png": "[encoded data removed]",
      "text/plain": [
       "<Figure size 432x288 with 3 Axes>"
      ]
     },
     "metadata": {
      "needs_background": "light"
     },
     "output_type": "display_data"
    }
   ],
   "source": [
    "import matplotlib.pyplot as plt\n",
    "from torch.utils.data import DataLoader\n",
    "from datasets.sprites_base_dataset import SpritesBaseDataset\n",
    "from datasets.sprites_meta_dataset import SpritesMetaDataset\n",
    "domain_parser = Domain(\"mvcl/base.grammar\")\n",
    "meta_domain_str = f\"\"\"\n",
    "(domain meta_demo)\n",
    "(:type\n",
    "    object - vector[float,100]\n",
    "    position - vector[float,2]\n",
    "    color - vector[float, 64]\n",
    "    category\n",
    ")\n",
    "(:predicate\n",
    "    color ?x-object -> vector[float,64]\n",
    "    is-red ?x-object -> boolean\n",
    "    is-blue ?x-object -> boolean\n",
    "    is-ship ?x-object -> boolean\n",
    "    is-house ?x-object -> boolean\n",
    ")\n",
    "(:derived\n",
    "    is-green ?x-color expr: (??f ?x)\n",
    ")\n",
    "(:constraint\n",
    "    (color: is-red is-blue)\n",
    "    (category: is-ship is-house)\n",
    ")\n",
    "\"\"\"\n",
    "domain = load_domain_string(meta_domain_str, domain_parser)\n",
    "batch_size = 3\n",
    "base_dataset = SpritesBaseDataset(\"train\")\n",
    "base_loader = DataLoader(base_dataset, batch_size = batch_size)\n",
    "\n",
    "# [visualize the datsets, show some samples]\n",
    "for sample in base_loader: sample;break;\n",
    "fig = plt.figure(\"visualize data\")\n",
    "for b in range(batch_size):\n",
    "    ax = fig.add_subplot(1,batch_size,b+1)\n",
    "    ax.imshow(sample[\"img\"][b].permute(1,2,0))\n"
   ]
  },
  {
   "cell_type": "code",
   "execution_count": 17,
   "metadata": {},
   "outputs": [
    {
     "data": {
      "text/plain": [
       "<All keys matched successfully>"
      ]
     },
     "execution_count": 17,
     "metadata": {},
     "output_type": "execute_result"
    }
   ],
   "source": [
    "# [Create the Demo Model]\n",
    "model = MetaVisualLearner(domain, config)\n",
    "model.load_state_dict(torch.load(\"checkpoints/KFT.pth\"))"
   ]
  },
  {
   "cell_type": "code",
   "execution_count": 18,
   "metadata": {},
   "outputs": [],
   "source": [
    "# [Take the Demo dataset sample as input]\n",
    "ims = sample[\"img\"]\n",
    "masks = sample[\"masks\"]\n",
    "outputs = model.perception(ims, masks.long().unsqueeze(1))"
   ]
  },
  {
   "cell_type": "code",
   "execution_count": 19,
   "metadata": {},
   "outputs": [
    {
     "name": "stdout",
     "output_type": "stream",
     "text": [
      "torch.Size([3, 64, 64, 10])\n"
     ]
    }
   ],
   "source": [
    "all_masks = outputs[\"masks\"]\n",
    "print(all_masks.shape)"
   ]
  }
 ],
 "metadata": {
  "interpreter": {
   "hash": "a47e46093c771f9510c4aabf3710bfb1355e5f870a13f8c22092f45d4d23626d"
  },
  "kernelspec": {
   "display_name": "Python 3.9.13 ('Melkor')",
   "language": "python",
   "name": "python3"
  },
  "language_info": {
   "codemirror_mode": {
    "name": "ipython",
    "version": 3
   },
   "file_extension": ".py",
   "mimetype": "text/x-python",
   "name": "python",
   "nbconvert_exporter": "python",
   "pygments_lexer": "ipython3",
   "version": "3.9.13"
  },
  "orig_nbformat": 4
 },
 "nbformat": 4,
 "nbformat_minor": 2
}
