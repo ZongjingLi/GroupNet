{
 "cells": [
  {
   "cell_type": "code",
   "execution_count": 1,
   "metadata": {},
   "outputs": [
    {
     "name": "stdout",
     "output_type": "stream",
     "text": [
      "[Taichi] version 1.7.0, llvm 15.0.7, commit 7b58b0ff, osx, python 3.9.13\n"
     ]
    },
    {
     "name": "stderr",
     "output_type": "stream",
     "text": [
      "[I 01/27/24 11:42:31.193 6095716] [shell.py:_shell_pop_print@23] Graphical python shell detected, using wrapped sys.stdout\n"
     ]
    }
   ],
   "source": [
    "from mvcl.config import config\n",
    "from mvcl.model import MetaVisualLearner\n",
    "from mvcl.primitives import *\n",
    "from rinarak.domain import Domain, load_domain_string"
   ]
  },
  {
   "cell_type": "code",
   "execution_count": 2,
   "metadata": {},
   "outputs": [
    {
     "data": {
      "image/png": "[encoded data removed]",
      "text/plain": [
       "<Figure size 432x288 with 3 Axes>"
      ]
     },
     "metadata": {
      "needs_background": "light"
     },
     "output_type": "display_data"
    }
   ],
   "source": [
    "import matplotlib.pyplot as plt\n",
    "from torch.utils.data import DataLoader\n",
    "from datasets.sprites_base_dataset import SpritesBaseDataset\n",
    "from datasets.sprites_meta_dataset import SpritesMetaDataset\n",
    "domain_parser = Domain(\"mvcl/base.grammar\")\n",
    "meta_domain_str = f\"\"\"\n",
    "(domain meta_demo)\n",
    "(:type\n",
    "    object - vector[float,100]\n",
    "    position - vector[float,2]\n",
    "    color - vector[float, 64]\n",
    "    category\n",
    ")\n",
    "(:predicate\n",
    "    color ?x-object -> vector[float,100]\n",
    "    shape ?x-object -> vector[float,100]\n",
    "\n",
    "    red ?x-color -> boolean\n",
    "    blue ?x-color -> boolean\n",
    "    green ?x-color -> boolean\n",
    "\n",
    "    square ?x-shape -> boolean\n",
    "    circle ?x-shape -> boolean\n",
    "    diamond ?x-shape -> boolean\n",
    ")\n",
    "(:derived\n",
    "    is-good ?x-color expr: (??f ?x)\n",
    ")\n",
    "(:constraint\n",
    "    (color: red blue green)\n",
    "    (shape: square circle diamond)\n",
    ")\n",
    "\"\"\"\n",
    "domain = load_domain_string(meta_domain_str, domain_parser)\n",
    "batch_size = 3\n",
    "base_dataset = SpritesBaseDataset(\"train\")\n",
    "base_loader = DataLoader(base_dataset, batch_size = batch_size, shuffle = True)\n",
    "\n",
    "# [visualize the datsets, show some samples]\n",
    "for sample in base_loader: sample;break;\n",
    "fig = plt.figure(\"visualize data\")\n",
    "for b in range(batch_size):\n",
    "    ax = fig.add_subplot(1,batch_size,b+1)\n",
    "    ax.imshow(sample[\"img\"][b].permute(1,2,0))\n"
   ]
  },
  {
   "cell_type": "code",
   "execution_count": 3,
   "metadata": {},
   "outputs": [],
   "source": [
    "# [Create the Demo Model]\n",
    "model = MetaVisualLearner(domain, config)\n",
    "model.load_state_dict(torch.load(\"checkpoints/KFT_backup.pth\"))\n",
    "\n",
    "color_mapper = nn.Linear(132,100)\n",
    "shape_mapper = nn.Linear(132,100)\n",
    "\n",
    "model.implementations[\"color\"] = color_mapper\n",
    "model.implementations[\"shape\"] = shape_mapper\n",
    "\n",
    "# [Pre-define some concept mapper]\n",
    "color = Primitive.GLOBALS[\"color\"]\n",
    "color.value = lambda x: {**x, \"features\": x[\"model\"].get_mapper(\"color\")(x[\"features\"])}\n",
    "shape = Primitive.GLOBALS[\"shape\"]\n",
    "shape.value = lambda x: {**x, \"features\": x[\"model\"].get_mapper(\"shape\")(x[\"features\"])}"
   ]
  },
  {
   "cell_type": "code",
   "execution_count": 4,
   "metadata": {},
   "outputs": [
    {
     "name": "stderr",
     "output_type": "stream",
     "text": [
      "/Users/melkor/miniforge3/envs/Melkor/lib/python3.9/site-packages/torch/nn/_reduction.py:42: UserWarning: size_average and reduce args will be deprecated, please use reduction='mean' instead.\n",
      "  warnings.warn(warning.format(ret))\n",
      "/Users/melkor/miniforge3/envs/Melkor/lib/python3.9/site-packages/torch_sparse/storage.py:14: UserWarning: `layout` argument unset, using default layout \"coo\". This may lead to unexpected behaviour.\n",
      "  warnings.warn('`layout` argument unset, using default layout '\n"
     ]
    },
    {
     "data": {
      "image/png": "[encoded data removed]",
      "text/plain": [
       "<Figure size 432x288 with 1 Axes>"
      ]
     },
     "metadata": {
      "needs_background": "light"
     },
     "output_type": "display_data"
    }
   ],
   "source": [
    "# [Take the Demo dataset sample as input]\n",
    "ims = sample[\"img\"]\n",
    "masks = sample[\"masks\"]\n",
    "\n",
    "plt.figure(\"input-img\")\n",
    "plt.imshow(ims[0].permute(1,2,0))\n",
    "plt.savefig(\"outputs/input_image.png\")\n",
    "plt.cla()\n",
    "plt.imshow(masks[0])\n",
    "plt.savefig(\"outputs/gt_masks.png\")\n",
    "\n",
    "outputs = model.perception(ims, masks.long().unsqueeze(1))\n",
    "\n",
    "# save the results for the test run\n"
   ]
  },
  {
   "cell_type": "code",
   "execution_count": 5,
   "metadata": {},
   "outputs": [
    {
     "data": {
      "image/png": "[encoded data removed]",
      "text/plain": [
       "<Figure size 432x288 with 10 Axes>"
      ]
     },
     "metadata": {
      "needs_background": "light"
     },
     "output_type": "display_data"
    }
   ],
   "source": [
    "all_masks = outputs[\"masks\"]\n",
    "alives = outputs[\"alive\"]\n",
    "fig = plt.figure(\"masks\"); b = 0\n",
    "for i in range(all_masks.shape[-1]):\n",
    "    ax = fig.add_subplot(2,5,1+i)\n",
    "    ax.imshow(all_masks[b,:,:,i] * alives[b,i])\n",
    "plt.savefig(\"outputs/predict_masks.png\")"
   ]
  },
  {
   "cell_type": "code",
   "execution_count": 16,
   "metadata": {},
   "outputs": [
    {
     "name": "stdout",
     "output_type": "stream",
     "text": [
      "is there any object with color of blue\n",
      "-2.0300002 yes 2.153399\n",
      "is there any object with shape of square\n",
      "-1.7320895 yes 1.8949856\n",
      "is there any object with color of green and with shape of diamond\n",
      "-2.6350923 yes 2.70435\n",
      "how many objects with color of red are there?\n",
      "0.93232864 0 0.8692367\n",
      "how many objects with shape of square are there?\n",
      "1.5032052 1 0.25321546\n",
      "is there any object with color of green\n",
      "-2.0512576 no 0.12095413\n",
      "is there any object with shape of diamond\n",
      "-1.3756496 no 0.22528161\n",
      "is there any object with color of red and with shape of square\n",
      "-3.311314 no 0.03581901\n",
      "how many objects with color of green are there?\n",
      "1.1392537 0 1.2978991\n",
      "how many objects with shape of diamond are there?\n",
      "2.0170858 0 4.068635\n",
      "is there any object with color of blue\n",
      "-2.0300002 no 0.12339875\n",
      "is there any object with shape of square\n",
      "-1.7320895 yes 1.8949856\n",
      "is there any object with color of green and with shape of diamond\n",
      "-2.6350923 no 0.06925768\n",
      "how many objects with color of red are there?\n",
      "0.93232864 0 0.8692367\n",
      "how many objects with shape of circle are there?\n",
      "2.0513573 0 4.2080665\n"
     ]
    }
   ],
   "source": [
    "backbone_features = outputs[\"features\"]\n",
    "context = {\n",
    "        \"end\":logit(alives[b].squeeze(-1)),\n",
    "        \"masks\": logit(all_masks[b].permute(2,0,1).flatten(start_dim = 1, end_dim = 1)),\n",
    "        \"features\": backbone_features[b].flatten(start_dim = 0, end_dim = 1),\n",
    "        \"model\": model\n",
    "}\n",
    "\n",
    "# there is an object has red shape\n",
    "p = Program.parse(f\"\"\"\n",
    "        (exists\n",
    "            (intersect\n",
    "                (exists\n",
    "                    (Pr (color (expand (scene $0)) ) blue) \n",
    "                )\n",
    "                (scene $0)\n",
    "            )\n",
    "        )\n",
    "    \"\"\")\n",
    "\n",
    "questions = sample[\"questions\"]\n",
    "programs = sample[\"programs\"]\n",
    "answers = sample[\"answers\"]\n",
    "numbers = [str(i) for i in range(0,10)]\n",
    "\n",
    "#p = Program.parse(\"(expand (scene $0))\")\n",
    "loss = 0.0\n",
    "for b in range(len(programs[0])):\n",
    "    for program_idx in range(len(programs)):\n",
    "        question = questions[program_idx][b]\n",
    "        program = programs[program_idx][b]\n",
    "        answer = answers[program_idx][b]\n",
    "        p = Program.parse(program)\n",
    "        output = p.evaluate({0:context})\n",
    "        if answer in [\"yes\", \"no\"]:\n",
    "            if answer == \"yes\":\n",
    "                loss += -torch.log(output[\"end\"].sigmoid())\n",
    "            if answer == \"no\":\n",
    "                loss += -torch.log(1 - output[\"end\"].sigmoid())\n",
    "        if answer in numbers:\n",
    "            loss += (output[\"end\"]-int(answer))**2\n",
    "        print(question)\n",
    "        print(output[\"end\"].detach().numpy(),answer, loss.detach().numpy())\n",
    "loss /= (b+1) * (program_idx + 1)\n",
    "\n"
   ]
  },
  {
   "cell_type": "code",
   "execution_count": null,
   "metadata": {},
   "outputs": [],
   "source": [
    "with open(\"outputs/logqa.txt\",\"w\") as log_file:\n",
    "    for i in range(len(programs)):\n",
    "        log_file.write(questions[i][0]+\"\\n\")\n",
    "        log_file.write(programs[i][0]+\"\\n\")\n",
    "        log_file.write(answers[i][0]+\"\\n\")\n",
    "        "
   ]
  }
 ],
 "metadata": {
  "interpreter": {
   "hash": "a47e46093c771f9510c4aabf3710bfb1355e5f870a13f8c22092f45d4d23626d"
  },
  "kernelspec": {
   "display_name": "Python 3.9.13 ('Melkor')",
   "language": "python",
   "name": "python3"
  },
  "language_info": {
   "codemirror_mode": {
    "name": "ipython",
    "version": 3
   },
   "file_extension": ".py",
   "mimetype": "text/x-python",
   "name": "python",
   "nbconvert_exporter": "python",
   "pygments_lexer": "ipython3",
   "version": "3.9.13"
  },
  "orig_nbformat": 4
 },
 "nbformat": 4,
 "nbformat_minor": 2
}
