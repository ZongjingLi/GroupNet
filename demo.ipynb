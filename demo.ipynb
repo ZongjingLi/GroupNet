{
 "cells": [
  {
   "cell_type": "code",
   "execution_count": 1,
   "metadata": {},
   "outputs": [
    {
     "name": "stdout",
     "output_type": "stream",
     "text": [
      "[Taichi] version 1.7.0, llvm 15.0.7, commit 7b58b0ff, osx, python 3.9.13\n"
     ]
    },
    {
     "name": "stderr",
     "output_type": "stream",
     "text": [
      "[I 02/02/24 01:02:01.060 354334] [shell.py:_shell_pop_print@23] Graphical python shell detected, using wrapped sys.stdout\n"
     ]
    }
   ],
   "source": [
    "from mvcl.config import config\n",
    "from mvcl.model import MetaVisualLearner\n",
    "from mvcl.primitives import *\n",
    "from rinarak.domain import Domain, load_domain_string"
   ]
  },
  {
   "cell_type": "code",
   "execution_count": 13,
   "metadata": {},
   "outputs": [
    {
     "data": {
      "image/png": "[encoded data removed]",
      "text/plain": [
       "<Figure size 432x288 with 3 Axes>"
      ]
     },
     "metadata": {
      "needs_background": "light"
     },
     "output_type": "display_data"
    }
   ],
   "source": [
    "import matplotlib.pyplot as plt\n",
    "from torch.utils.data import DataLoader\n",
    "from datasets.sprites_base_dataset import SpritesBaseDataset\n",
    "from datasets.sprites_meta_dataset import SpritesMetaDataset\n",
    "domain_parser = Domain(\"mvcl/base.grammar\")\n",
    "meta_domain_str = f\"\"\"\n",
    "(domain meta_demo)\n",
    "(:type\n",
    "    color - vector[float, 64]\n",
    "    shape\n",
    ")\n",
    "(:predicate\n",
    "    color ?x-object -> vector[float,100]\n",
    "    shape ?x-object -> vector[float,100]\n",
    "\n",
    "    red ?x-color -> boolean\n",
    "    blue ?x-color -> boolean\n",
    "    green ?x-color -> boolean\n",
    "\n",
    "    square ?x-shape -> boolean\n",
    "    circle ?x-shape -> boolean\n",
    "    diamond ?x-shape -> boolean\n",
    ")\n",
    "(:derived\n",
    "    is-good ?x-color expr: (??f ?x)\n",
    ")\n",
    "(:constraint\n",
    "    (color: red blue green)\n",
    "    (shape: square circle diamond)\n",
    ")\n",
    "\"\"\"\n",
    "domain = load_domain_string(meta_domain_str, domain_parser)\n",
    "batch_size = 3\n",
    "base_dataset = SpritesBaseDataset(\"train\")\n",
    "base_loader = DataLoader(base_dataset, batch_size = batch_size, shuffle = True)\n",
    "\n",
    "# [visualize the datsets, show some samples]\n",
    "for sample in base_loader: sample;break;\n",
    "fig = plt.figure(\"visualize data\")\n",
    "for b in range(batch_size):\n",
    "    ax = fig.add_subplot(1,batch_size,b+1)\n",
    "    ax.imshow(sample[\"img\"][b].permute(1,2,0))\n"
   ]
  },
  {
   "cell_type": "code",
   "execution_count": 11,
   "metadata": {},
   "outputs": [],
   "source": [
    "# [Create the Demo Model]\n",
    "from rinarak.dklearn.nn.mlp import FCBlock\n",
    "model = MetaVisualLearner(domain, config)\n",
    "\n",
    "\n",
    "# [Pre-define some concept mapper]\n",
    "color = Primitive.GLOBALS[\"color\"]\n",
    "color.value = lambda x: {**x, \"features\": x[\"model\"].get_mapper(\"color\")(x[\"features\"])}\n",
    "shape = Primitive.GLOBALS[\"shape\"]\n",
    "shape.value = lambda x: {**x, \"features\": x[\"model\"].get_mapper(\"shape\")(x[\"features\"])}\n",
    "\n",
    "model.perception.load_state_dict(torch.load(\"checkpoints/KFT_percept_backup.pth\"))\n",
    "\n",
    "import math\n",
    "class ColorMapper(nn.Module):\n",
    "    def __init__(self,input_dim,output_dim):\n",
    "        super().__init__()\n",
    "        self.conv = nn.Conv2d(132,100,3,1,1)\n",
    "    \n",
    "    def forward(self, x):\n",
    "        if len(x.shape) == 2:\n",
    "            N, D = x.shape\n",
    "            W, H = math.sqrt(N)\n",
    "            x = x.reshape([1,W,H,D])\n",
    "        if len(x.shape) == 3:\n",
    "            B, N, D = x.shape\n",
    "            W, H = math.sqrt(N)\n",
    "            x = x.reshape(B,W,H,D)\n",
    "        return self.conv(x).flatten(end_dim = -2)\n",
    "\n",
    "color_mapper = ColorMapper(132,100)\n",
    "shape_mapper = FCBlock(100,2,132,100)\n",
    "\n",
    "model.implementations[\"color\"] = color_mapper\n",
    "model.implementations[\"shape\"] = shape_mapper\n",
    "\n"
   ]
  },
  {
   "cell_type": "code",
   "execution_count": 56,
   "metadata": {},
   "outputs": [],
   "source": [
    "#torch.save(model.perception.state_dict(), \"checkpoints/convs_backbone.pth\")"
   ]
  },
  {
   "cell_type": "code",
   "execution_count": 14,
   "metadata": {},
   "outputs": [
    {
     "data": {
      "image/png": "[encoded data removed]",
      "text/plain": [
       "<Figure size 432x288 with 1 Axes>"
      ]
     },
     "metadata": {
      "needs_background": "light"
     },
     "output_type": "display_data"
    }
   ],
   "source": [
    "# [Take the Demo dataset sample as input]\n",
    "ims = sample[\"img\"]\n",
    "masks = sample[\"masks\"]\n",
    "\n",
    "plt.figure(\"input-img\")\n",
    "plt.imshow(ims[0].permute(1,2,0))\n",
    "plt.axis('off')\n",
    "plt.savefig(\"outputs/input_image.png\", bbox_inches='tight')\n",
    "plt.cla()\n",
    "plt.imshow(masks[0])\n",
    "plt.axis('off')\n",
    "plt.savefig(\"outputs/gt_masks.png\", bbox_inches='tight')\n",
    "\n",
    "outputs = model.perception(ims, masks.long().unsqueeze(1))\n",
    "# save the results for the test run\n"
   ]
  },
  {
   "cell_type": "code",
   "execution_count": 15,
   "metadata": {},
   "outputs": [
    {
     "data": {
      "image/png": "[encoded data removed]",
      "text/plain": [
       "<Figure size 432x288 with 10 Axes>"
      ]
     },
     "metadata": {
      "needs_background": "light"
     },
     "output_type": "display_data"
    }
   ],
   "source": [
    "all_masks = outputs[\"masks\"]\n",
    "alives = outputs[\"alive\"]\n",
    "fig = plt.figure(\"masks\"); b = 0\n",
    "for i in range(all_masks.shape[-1]):\n",
    "    ax = fig.add_subplot(2,5,1+i)\n",
    "    plt.axis('off')\n",
    "    ax.imshow(all_masks[b,:,:,i] * alives[b,i])\n",
    "\n",
    "plt.savefig(\"outputs/predict_masks.png\", bbox_inches='tight')"
   ]
  },
  {
   "cell_type": "code",
   "execution_count": 16,
   "metadata": {},
   "outputs": [
    {
     "name": "stdout",
     "output_type": "stream",
     "text": [
      "torch.Size([10, 4096])\n"
     ]
    },
    {
     "ename": "RuntimeError",
     "evalue": "Given groups=1, weight of size [100, 132, 3, 3], expected input[1, 10, 4096, 132] to have 132 channels, but got 10 channels instead",
     "output_type": "error",
     "traceback": [
      "\u001b[0;31m---------------------------------------------------------------------------\u001b[0m",
      "\u001b[0;31mRuntimeError\u001b[0m                              Traceback (most recent call last)",
      "\u001b[1;32m/Users/melkor/Documents/GitHub/MetaVisualConceptLearner/demo.ipynb Cell 7'\u001b[0m in \u001b[0;36m<cell line: 29>\u001b[0;34m()\u001b[0m\n\u001b[1;32m     <a href='vscode-notebook-cell:/Users/melkor/Documents/GitHub/MetaVisualConceptLearner/demo.ipynb#ch0000006?line=32'>33</a>\u001b[0m answer \u001b[39m=\u001b[39m answers[program_idx][b]\n\u001b[1;32m     <a href='vscode-notebook-cell:/Users/melkor/Documents/GitHub/MetaVisualConceptLearner/demo.ipynb#ch0000006?line=33'>34</a>\u001b[0m p \u001b[39m=\u001b[39m Program\u001b[39m.\u001b[39mparse(program)\n\u001b[0;32m---> <a href='vscode-notebook-cell:/Users/melkor/Documents/GitHub/MetaVisualConceptLearner/demo.ipynb#ch0000006?line=34'>35</a>\u001b[0m output \u001b[39m=\u001b[39m p\u001b[39m.\u001b[39;49mevaluate({\u001b[39m0\u001b[39;49m:context})\n\u001b[1;32m     <a href='vscode-notebook-cell:/Users/melkor/Documents/GitHub/MetaVisualConceptLearner/demo.ipynb#ch0000006?line=35'>36</a>\u001b[0m loss \u001b[39m=\u001b[39m \u001b[39m0.0\u001b[39m\n\u001b[1;32m     <a href='vscode-notebook-cell:/Users/melkor/Documents/GitHub/MetaVisualConceptLearner/demo.ipynb#ch0000006?line=36'>37</a>\u001b[0m \u001b[39mif\u001b[39;00m answer \u001b[39min\u001b[39;00m [\u001b[39m\"\u001b[39m\u001b[39myes\u001b[39m\u001b[39m\"\u001b[39m, \u001b[39m\"\u001b[39m\u001b[39mno\u001b[39m\u001b[39m\"\u001b[39m]:\n",
      "File \u001b[0;32m~/miniforge3/envs/Melkor/lib/python3.9/site-packages/rinarak/program.py:397\u001b[0m, in \u001b[0;36mApplication.evaluate\u001b[0;34m(self, environment)\u001b[0m\n\u001b[1;32m    <a href='file:///Users/melkor/miniforge3/envs/Melkor/lib/python3.9/site-packages/rinarak/program.py?line=394'>395</a>\u001b[0m         \u001b[39mreturn\u001b[39;00m \u001b[39mself\u001b[39m\u001b[39m.\u001b[39mfalseBranch\u001b[39m.\u001b[39mevaluate(environment)\n\u001b[1;32m    <a href='file:///Users/melkor/miniforge3/envs/Melkor/lib/python3.9/site-packages/rinarak/program.py?line=395'>396</a>\u001b[0m \u001b[39melse\u001b[39;00m:\n\u001b[0;32m--> <a href='file:///Users/melkor/miniforge3/envs/Melkor/lib/python3.9/site-packages/rinarak/program.py?line=396'>397</a>\u001b[0m     \u001b[39mreturn\u001b[39;00m \u001b[39mself\u001b[39m\u001b[39m.\u001b[39mf\u001b[39m.\u001b[39mevaluate(environment)(\u001b[39mself\u001b[39;49m\u001b[39m.\u001b[39;49mx\u001b[39m.\u001b[39;49mevaluate(environment))\n",
      "File \u001b[0;32m~/miniforge3/envs/Melkor/lib/python3.9/site-packages/rinarak/program.py:397\u001b[0m, in \u001b[0;36mApplication.evaluate\u001b[0;34m(self, environment)\u001b[0m\n\u001b[1;32m    <a href='file:///Users/melkor/miniforge3/envs/Melkor/lib/python3.9/site-packages/rinarak/program.py?line=394'>395</a>\u001b[0m         \u001b[39mreturn\u001b[39;00m \u001b[39mself\u001b[39m\u001b[39m.\u001b[39mfalseBranch\u001b[39m.\u001b[39mevaluate(environment)\n\u001b[1;32m    <a href='file:///Users/melkor/miniforge3/envs/Melkor/lib/python3.9/site-packages/rinarak/program.py?line=395'>396</a>\u001b[0m \u001b[39melse\u001b[39;00m:\n\u001b[0;32m--> <a href='file:///Users/melkor/miniforge3/envs/Melkor/lib/python3.9/site-packages/rinarak/program.py?line=396'>397</a>\u001b[0m     \u001b[39mreturn\u001b[39;00m \u001b[39mself\u001b[39;49m\u001b[39m.\u001b[39;49mf\u001b[39m.\u001b[39;49mevaluate(environment)(\u001b[39mself\u001b[39m\u001b[39m.\u001b[39mx\u001b[39m.\u001b[39mevaluate(environment))\n",
      "    \u001b[0;31m[... skipping similar frames: Application.evaluate at line 397 (6 times)]\u001b[0m\n",
      "File \u001b[0;32m~/miniforge3/envs/Melkor/lib/python3.9/site-packages/rinarak/program.py:397\u001b[0m, in \u001b[0;36mApplication.evaluate\u001b[0;34m(self, environment)\u001b[0m\n\u001b[1;32m    <a href='file:///Users/melkor/miniforge3/envs/Melkor/lib/python3.9/site-packages/rinarak/program.py?line=394'>395</a>\u001b[0m         \u001b[39mreturn\u001b[39;00m \u001b[39mself\u001b[39m\u001b[39m.\u001b[39mfalseBranch\u001b[39m.\u001b[39mevaluate(environment)\n\u001b[1;32m    <a href='file:///Users/melkor/miniforge3/envs/Melkor/lib/python3.9/site-packages/rinarak/program.py?line=395'>396</a>\u001b[0m \u001b[39melse\u001b[39;00m:\n\u001b[0;32m--> <a href='file:///Users/melkor/miniforge3/envs/Melkor/lib/python3.9/site-packages/rinarak/program.py?line=396'>397</a>\u001b[0m     \u001b[39mreturn\u001b[39;00m \u001b[39mself\u001b[39;49m\u001b[39m.\u001b[39;49mf\u001b[39m.\u001b[39;49mevaluate(environment)(\u001b[39mself\u001b[39;49m\u001b[39m.\u001b[39;49mx\u001b[39m.\u001b[39;49mevaluate(environment))\n",
      "\u001b[1;32m/Users/melkor/Documents/GitHub/MetaVisualConceptLearner/demo.ipynb Cell 3'\u001b[0m in \u001b[0;36m<lambda>\u001b[0;34m(x)\u001b[0m\n\u001b[1;32m      <a href='vscode-notebook-cell:/Users/melkor/Documents/GitHub/MetaVisualConceptLearner/demo.ipynb#ch0000002?line=5'>6</a>\u001b[0m \u001b[39m# [Pre-define some concept mapper]\u001b[39;00m\n\u001b[1;32m      <a href='vscode-notebook-cell:/Users/melkor/Documents/GitHub/MetaVisualConceptLearner/demo.ipynb#ch0000002?line=6'>7</a>\u001b[0m color \u001b[39m=\u001b[39m Primitive\u001b[39m.\u001b[39mGLOBALS[\u001b[39m\"\u001b[39m\u001b[39mcolor\u001b[39m\u001b[39m\"\u001b[39m]\n\u001b[0;32m----> <a href='vscode-notebook-cell:/Users/melkor/Documents/GitHub/MetaVisualConceptLearner/demo.ipynb#ch0000002?line=7'>8</a>\u001b[0m color\u001b[39m.\u001b[39mvalue \u001b[39m=\u001b[39m \u001b[39mlambda\u001b[39;00m x: {\u001b[39m*\u001b[39m\u001b[39m*\u001b[39mx, \u001b[39m\"\u001b[39m\u001b[39mfeatures\u001b[39m\u001b[39m\"\u001b[39m: x[\u001b[39m\"\u001b[39;49m\u001b[39mmodel\u001b[39;49m\u001b[39m\"\u001b[39;49m]\u001b[39m.\u001b[39;49mget_mapper(\u001b[39m\"\u001b[39;49m\u001b[39mcolor\u001b[39;49m\u001b[39m\"\u001b[39;49m)(x[\u001b[39m\"\u001b[39;49m\u001b[39mfeatures\u001b[39;49m\u001b[39m\"\u001b[39;49m])}\n\u001b[1;32m      <a href='vscode-notebook-cell:/Users/melkor/Documents/GitHub/MetaVisualConceptLearner/demo.ipynb#ch0000002?line=8'>9</a>\u001b[0m shape \u001b[39m=\u001b[39m Primitive\u001b[39m.\u001b[39mGLOBALS[\u001b[39m\"\u001b[39m\u001b[39mshape\u001b[39m\u001b[39m\"\u001b[39m]\n\u001b[1;32m     <a href='vscode-notebook-cell:/Users/melkor/Documents/GitHub/MetaVisualConceptLearner/demo.ipynb#ch0000002?line=9'>10</a>\u001b[0m shape\u001b[39m.\u001b[39mvalue \u001b[39m=\u001b[39m \u001b[39mlambda\u001b[39;00m x: {\u001b[39m*\u001b[39m\u001b[39m*\u001b[39mx, \u001b[39m\"\u001b[39m\u001b[39mfeatures\u001b[39m\u001b[39m\"\u001b[39m: x[\u001b[39m\"\u001b[39m\u001b[39mmodel\u001b[39m\u001b[39m\"\u001b[39m]\u001b[39m.\u001b[39mget_mapper(\u001b[39m\"\u001b[39m\u001b[39mshape\u001b[39m\u001b[39m\"\u001b[39m)(x[\u001b[39m\"\u001b[39m\u001b[39mfeatures\u001b[39m\u001b[39m\"\u001b[39m])}\n",
      "File \u001b[0;32m~/miniforge3/envs/Melkor/lib/python3.9/site-packages/torch/nn/modules/module.py:1194\u001b[0m, in \u001b[0;36mModule._call_impl\u001b[0;34m(self, *input, **kwargs)\u001b[0m\n\u001b[1;32m   <a href='file:///Users/melkor/miniforge3/envs/Melkor/lib/python3.9/site-packages/torch/nn/modules/module.py?line=1189'>1190</a>\u001b[0m \u001b[39m# If we don't have any hooks, we want to skip the rest of the logic in\u001b[39;00m\n\u001b[1;32m   <a href='file:///Users/melkor/miniforge3/envs/Melkor/lib/python3.9/site-packages/torch/nn/modules/module.py?line=1190'>1191</a>\u001b[0m \u001b[39m# this function, and just call forward.\u001b[39;00m\n\u001b[1;32m   <a href='file:///Users/melkor/miniforge3/envs/Melkor/lib/python3.9/site-packages/torch/nn/modules/module.py?line=1191'>1192</a>\u001b[0m \u001b[39mif\u001b[39;00m \u001b[39mnot\u001b[39;00m (\u001b[39mself\u001b[39m\u001b[39m.\u001b[39m_backward_hooks \u001b[39mor\u001b[39;00m \u001b[39mself\u001b[39m\u001b[39m.\u001b[39m_forward_hooks \u001b[39mor\u001b[39;00m \u001b[39mself\u001b[39m\u001b[39m.\u001b[39m_forward_pre_hooks \u001b[39mor\u001b[39;00m _global_backward_hooks\n\u001b[1;32m   <a href='file:///Users/melkor/miniforge3/envs/Melkor/lib/python3.9/site-packages/torch/nn/modules/module.py?line=1192'>1193</a>\u001b[0m         \u001b[39mor\u001b[39;00m _global_forward_hooks \u001b[39mor\u001b[39;00m _global_forward_pre_hooks):\n\u001b[0;32m-> <a href='file:///Users/melkor/miniforge3/envs/Melkor/lib/python3.9/site-packages/torch/nn/modules/module.py?line=1193'>1194</a>\u001b[0m     \u001b[39mreturn\u001b[39;00m forward_call(\u001b[39m*\u001b[39;49m\u001b[39minput\u001b[39;49m, \u001b[39m*\u001b[39;49m\u001b[39m*\u001b[39;49mkwargs)\n\u001b[1;32m   <a href='file:///Users/melkor/miniforge3/envs/Melkor/lib/python3.9/site-packages/torch/nn/modules/module.py?line=1194'>1195</a>\u001b[0m \u001b[39m# Do not call functions when jit is used\u001b[39;00m\n\u001b[1;32m   <a href='file:///Users/melkor/miniforge3/envs/Melkor/lib/python3.9/site-packages/torch/nn/modules/module.py?line=1195'>1196</a>\u001b[0m full_backward_hooks, non_full_backward_hooks \u001b[39m=\u001b[39m [], []\n",
      "File \u001b[0;32m~/miniforge3/envs/Melkor/lib/python3.9/site-packages/torch/nn/modules/conv.py:463\u001b[0m, in \u001b[0;36mConv2d.forward\u001b[0;34m(self, input)\u001b[0m\n\u001b[1;32m    <a href='file:///Users/melkor/miniforge3/envs/Melkor/lib/python3.9/site-packages/torch/nn/modules/conv.py?line=461'>462</a>\u001b[0m \u001b[39mdef\u001b[39;00m \u001b[39mforward\u001b[39m(\u001b[39mself\u001b[39m, \u001b[39minput\u001b[39m: Tensor) \u001b[39m-\u001b[39m\u001b[39m>\u001b[39m Tensor:\n\u001b[0;32m--> <a href='file:///Users/melkor/miniforge3/envs/Melkor/lib/python3.9/site-packages/torch/nn/modules/conv.py?line=462'>463</a>\u001b[0m     \u001b[39mreturn\u001b[39;00m \u001b[39mself\u001b[39;49m\u001b[39m.\u001b[39;49m_conv_forward(\u001b[39minput\u001b[39;49m, \u001b[39mself\u001b[39;49m\u001b[39m.\u001b[39;49mweight, \u001b[39mself\u001b[39;49m\u001b[39m.\u001b[39;49mbias)\n",
      "File \u001b[0;32m~/miniforge3/envs/Melkor/lib/python3.9/site-packages/torch/nn/modules/conv.py:459\u001b[0m, in \u001b[0;36mConv2d._conv_forward\u001b[0;34m(self, input, weight, bias)\u001b[0m\n\u001b[1;32m    <a href='file:///Users/melkor/miniforge3/envs/Melkor/lib/python3.9/site-packages/torch/nn/modules/conv.py?line=454'>455</a>\u001b[0m \u001b[39mif\u001b[39;00m \u001b[39mself\u001b[39m\u001b[39m.\u001b[39mpadding_mode \u001b[39m!=\u001b[39m \u001b[39m'\u001b[39m\u001b[39mzeros\u001b[39m\u001b[39m'\u001b[39m:\n\u001b[1;32m    <a href='file:///Users/melkor/miniforge3/envs/Melkor/lib/python3.9/site-packages/torch/nn/modules/conv.py?line=455'>456</a>\u001b[0m     \u001b[39mreturn\u001b[39;00m F\u001b[39m.\u001b[39mconv2d(F\u001b[39m.\u001b[39mpad(\u001b[39minput\u001b[39m, \u001b[39mself\u001b[39m\u001b[39m.\u001b[39m_reversed_padding_repeated_twice, mode\u001b[39m=\u001b[39m\u001b[39mself\u001b[39m\u001b[39m.\u001b[39mpadding_mode),\n\u001b[1;32m    <a href='file:///Users/melkor/miniforge3/envs/Melkor/lib/python3.9/site-packages/torch/nn/modules/conv.py?line=456'>457</a>\u001b[0m                     weight, bias, \u001b[39mself\u001b[39m\u001b[39m.\u001b[39mstride,\n\u001b[1;32m    <a href='file:///Users/melkor/miniforge3/envs/Melkor/lib/python3.9/site-packages/torch/nn/modules/conv.py?line=457'>458</a>\u001b[0m                     _pair(\u001b[39m0\u001b[39m), \u001b[39mself\u001b[39m\u001b[39m.\u001b[39mdilation, \u001b[39mself\u001b[39m\u001b[39m.\u001b[39mgroups)\n\u001b[0;32m--> <a href='file:///Users/melkor/miniforge3/envs/Melkor/lib/python3.9/site-packages/torch/nn/modules/conv.py?line=458'>459</a>\u001b[0m \u001b[39mreturn\u001b[39;00m F\u001b[39m.\u001b[39;49mconv2d(\u001b[39minput\u001b[39;49m, weight, bias, \u001b[39mself\u001b[39;49m\u001b[39m.\u001b[39;49mstride,\n\u001b[1;32m    <a href='file:///Users/melkor/miniforge3/envs/Melkor/lib/python3.9/site-packages/torch/nn/modules/conv.py?line=459'>460</a>\u001b[0m                 \u001b[39mself\u001b[39;49m\u001b[39m.\u001b[39;49mpadding, \u001b[39mself\u001b[39;49m\u001b[39m.\u001b[39;49mdilation, \u001b[39mself\u001b[39;49m\u001b[39m.\u001b[39;49mgroups)\n",
      "\u001b[0;31mRuntimeError\u001b[0m: Given groups=1, weight of size [100, 132, 3, 3], expected input[1, 10, 4096, 132] to have 132 channels, but got 10 channels instead"
     ]
    }
   ],
   "source": [
    "backbone_features = outputs[\"features\"]\n",
    "context = {\n",
    "        \"end\":logit(alives[b].squeeze(-1)),\n",
    "        \"masks\": logit(all_masks[b].permute(2,0,1).flatten(start_dim = 1, end_dim = 2)),\n",
    "        \"features\": backbone_features[b].flatten(start_dim = 0, end_dim = 1),\n",
    "        \"model\": model\n",
    "}\n",
    "print(context[\"masks\"].shape)\n",
    "\n",
    "# there is an object has red shape\n",
    "p = Program.parse(f\"\"\"\n",
    "        (exists\n",
    "            (intersect\n",
    "                (exists\n",
    "                    (Pr (color (expand (scene $0)) ) blue) \n",
    "                )\n",
    "                (scene $0)\n",
    "            )\n",
    "        )\n",
    "    \"\"\")\n",
    "\n",
    "questions = sample[\"questions\"]\n",
    "programs = sample[\"programs\"]\n",
    "answers = sample[\"answers\"]\n",
    "numbers = [str(i) for i in range(0,10)]\n",
    "\n",
    "#p = Program.parse(\"(expand (scene $0))\")\n",
    "loss = 0.0\n",
    "for b in range(1):\n",
    "    for program_idx in range(len(programs)):\n",
    "        question = questions[program_idx][b]\n",
    "        program = programs[program_idx][b]\n",
    "        answer = answers[program_idx][b]\n",
    "        p = Program.parse(program)\n",
    "        output = p.evaluate({0:context})\n",
    "        loss = 0.0\n",
    "        if answer in [\"yes\", \"no\"]:\n",
    "            if answer == \"yes\":\n",
    "                loss += -torch.log(output[\"end\"].sigmoid())\n",
    "            if answer == \"no\":\n",
    "                loss += -torch.log(1 - output[\"end\"].sigmoid())\n",
    "        if answer in numbers:\n",
    "            loss += (output[\"end\"]-1-int(answer))**2\n",
    "        print(question)\n",
    "        print(\"answer:{} gt-ans:{} loss:{}\\n\".format(output[\"end\"].detach().numpy(),answer, loss.detach().numpy()))\n",
    "loss /= (b+1) * (program_idx + 1)\n",
    "\n"
   ]
  },
  {
   "cell_type": "code",
   "execution_count": 37,
   "metadata": {},
   "outputs": [
    {
     "name": "stdout",
     "output_type": "stream",
     "text": [
      "(\n",
      "    intersect \n",
      "    (forall\n",
      "        (union\n",
      "            (Pr (color (expand (scene $0)) ) blue) \n",
      "            ( not (expand (scene $0)) )\n",
      "        )\n",
      "    )\n",
      "    (scene $0)         \n",
      ")\n",
      "\n",
      "tensor([1.0000e-06, 4.3527e-01, 1.0000e-06, 3.9557e-01, 1.0000e-06, 1.0000e-06,\n",
      "        4.0507e-01, 1.0000e-06, 1.0000e-06, 1.0000e-06])\n"
     ]
    },
    {
     "data": {
      "image/png": "[encoded data removed]",
      "text/plain": [
       "<Figure size 432x288 with 10 Axes>"
      ]
     },
     "metadata": {
      "needs_background": "light"
     },
     "output_type": "display_data"
    }
   ],
   "source": [
    "def display_reference(p, context):\n",
    "    if isinstance(p, str): p = Program.parse(p)\n",
    "    o = p.evaluate({0:context})\n",
    "    masks = o[\"masks\"].detach()\n",
    "    ends = o[\"end\"].detach()\n",
    "    fig = plt.figure(\"ref-masks\")\n",
    "\n",
    "    for i in range(ends.shape[0]):\n",
    "        ax = fig.add_subplot(2,5,1+i)\n",
    "        plt.axis('off')\n",
    "        ax.imshow(masks[i].reshape(64,64) * ends[i].sigmoid())\n",
    "    print(ends.sigmoid().detach())\n",
    "\n",
    "\n",
    "p1 = f\"\"\"(\n",
    "    intersect \n",
    "    (forall\n",
    "        (union\n",
    "            (Pr (color (expand (scene $0)) ) {{}}) \n",
    "            ( not (expand (scene $0)) )\n",
    "        )\n",
    "    )\n",
    "    (scene $0)         \n",
    ")\n",
    "\"\"\"\n",
    "p2 = f\"\"\"(\n",
    "    intersect \n",
    "    (exists\n",
    "            (Pr (color (expand (scene $0)) ) {{}}) \n",
    "    )\n",
    "    (scene $0)         \n",
    ")\n",
    "\"\"\"\n",
    "\n",
    "outputs = model.perception(ims, masks.long().unsqueeze(1))\n",
    "backbone_features = outputs[\"features\"]\n",
    "context = {\n",
    "        \"end\":logit(alives[b].squeeze(-1)),\n",
    "        \"masks\": logit(all_masks[b].permute(2,0,1).flatten(start_dim = 1, end_dim = 2)),\n",
    "        \"features\": backbone_features[b].flatten(start_dim = 0, end_dim = 1),\n",
    "        \"model\": model\n",
    "    }\n",
    "print(p1.format(\"blue\"))\n",
    "display_reference(p1.format(\"blue\"), context)\n"
   ]
  },
  {
   "cell_type": "code",
   "execution_count": 38,
   "metadata": {},
   "outputs": [
    {
     "name": "stdout",
     "output_type": "stream",
     "text": [
      "torch.Size([10, 4096])\n",
      "shape:[10, 4096] max:0.9999990463256836 min:0.43056410551071167\n",
      "shape:[4096] max:0.9999457597732544 min:0.5644305944442749\n",
      "shape:[4096] max:0.9999990463256836 min:0.9999990463256836\n"
     ]
    },
    {
     "data": {
      "image/png": "[encoded data removed]",
      "text/plain": [
       "<Figure size 432x288 with 10 Axes>"
      ]
     },
     "metadata": {
      "needs_background": "light"
     },
     "output_type": "display_data"
    }
   ],
   "source": [
    "\"\"\"Test the Expand Operator Works\"\"\"    \n",
    "p = f\"\"\"(\n",
    "        (union\n",
    "            (Pr (color(expand (scene $0)) )  green)\n",
    "            (not(expand (scene $0)))\n",
    "        )\n",
    ")\n",
    "\"\"\"\n",
    "\n",
    "from rinarak.utils.tensor import stats_summary\n",
    "if 1:\n",
    "    p = Program.parse(p)\n",
    "    o = p.evaluate({0:context})\n",
    "    ends = o[\"end\"].detach()\n",
    "    fig = plt.figure(\"ref-masks\")\n",
    "    print(ends.shape)\n",
    "\n",
    "    #print(ends.sigmoid())\n",
    "    stats_summary(ends.sigmoid())\n",
    "    for i in range(ends.shape[0]):\n",
    "        ax = fig.add_subplot(2,5,1+i)\n",
    "        plt.axis('off')\n",
    "        ax.imshow(all_masks[b,:,:,i:i+1] * ims[b].permute(1,2,0)*ends[i].reshape([64,64,1]).sigmoid())\n",
    "    \n",
    "    stats_summary(ends[1].sigmoid())\n",
    "    stats_summary(ends[5].sigmoid())\n",
    "\n"
   ]
  },
  {
   "cell_type": "code",
   "execution_count": 39,
   "metadata": {},
   "outputs": [
    {
     "name": "stdout",
     "output_type": "stream",
     "text": [
      "torch.Size([10])\n",
      "[0.99999905 0.29527104 0.99999905 0.33039606 0.99999905 0.99999905\n",
      " 0.34165448 0.99999905 0.99999905 0.99999905]\n"
     ]
    },
    {
     "data": {
      "text/plain": [
       "<Figure size 432x288 with 0 Axes>"
      ]
     },
     "metadata": {},
     "output_type": "display_data"
    }
   ],
   "source": [
    "p = f\"\"\"(\n",
    "\n",
    "    (forall\n",
    "        (union\n",
    "            (Pr (color(expand (scene $0)) )  red)\n",
    "            (not(expand (scene $0)))\n",
    "        )\n",
    "    )\n",
    "\n",
    ")\n",
    "\"\"\"\n",
    "\n",
    "from rinarak.utils.tensor import stats_summary\n",
    "if 1:\n",
    "    p = Program.parse(p)\n",
    "    o = p.evaluate({0:context})\n",
    "    ends = o[\"end\"].detach()\n",
    "    fig = plt.figure(\"ref-masks\")\n",
    "    print(ends.shape)\n",
    "\n",
    "    print(ends.sigmoid().detach().float().numpy()) \n"
   ]
  },
  {
   "cell_type": "code",
   "execution_count": 42,
   "metadata": {},
   "outputs": [
    {
     "name": "stdout",
     "output_type": "stream",
     "text": [
      "epoch:643 loss:2.772982597351074 cos:tensor([0.7929], grad_fn=<SumBackward1>))"
     ]
    },
    {
     "name": "stderr",
     "output_type": "stream",
     "text": [
      "[E thread_pool.cpp:113] Exception in thread pool task: mutex lock failed: Invalid argument\n",
      "[E thread_pool.cpp:113] Exception in thread pool task: mutex lock failed: Invalid argument\n",
      "[E thread_pool.cpp:113] Exception in thread pool task: mutex lock failed: Invalid argument\n",
      "[E thread_pool.cpp:113] Exception in thread pool task: mutex lock failed: Invalid argument\n"
     ]
    },
    {
     "ename": "KeyboardInterrupt",
     "evalue": "",
     "output_type": "error",
     "traceback": [
      "\u001b[0;31m---------------------------------------------------------------------------\u001b[0m",
      "\u001b[0;31mKeyboardInterrupt\u001b[0m                         Traceback (most recent call last)",
      "\u001b[1;32m/Users/melkor/Documents/GitHub/MetaVisualConceptLearner/demo.ipynb Cell 11'\u001b[0m in \u001b[0;36m<cell line: 11>\u001b[0;34m()\u001b[0m\n\u001b[1;32m     <a href='vscode-notebook-cell:/Users/melkor/Documents/GitHub/MetaVisualConceptLearner/demo.ipynb#ch0000008?line=30'>31</a>\u001b[0m loss \u001b[39m-\u001b[39m\u001b[39m=\u001b[39m torch\u001b[39m.\u001b[39mlog(\u001b[39m1\u001b[39m \u001b[39m-\u001b[39m torch\u001b[39m.\u001b[39msigmoid(o[\u001b[39m\"\u001b[39m\u001b[39mend\u001b[39m\u001b[39m\"\u001b[39m][u1]))\n\u001b[1;32m     <a href='vscode-notebook-cell:/Users/melkor/Documents/GitHub/MetaVisualConceptLearner/demo.ipynb#ch0000008?line=32'>33</a>\u001b[0m optim\u001b[39m.\u001b[39mzero_grad()\n\u001b[0;32m---> <a href='vscode-notebook-cell:/Users/melkor/Documents/GitHub/MetaVisualConceptLearner/demo.ipynb#ch0000008?line=33'>34</a>\u001b[0m loss\u001b[39m.\u001b[39;49mbackward()\n\u001b[1;32m     <a href='vscode-notebook-cell:/Users/melkor/Documents/GitHub/MetaVisualConceptLearner/demo.ipynb#ch0000008?line=34'>35</a>\u001b[0m optim\u001b[39m.\u001b[39mstep()\n\u001b[1;32m     <a href='vscode-notebook-cell:/Users/melkor/Documents/GitHub/MetaVisualConceptLearner/demo.ipynb#ch0000008?line=35'>36</a>\u001b[0m vr\u001b[39m=\u001b[39mmodel\u001b[39m.\u001b[39mget_concept_embedding(\u001b[39m\"\u001b[39m\u001b[39mgreen\u001b[39m\u001b[39m\"\u001b[39m)\n",
      "File \u001b[0;32m~/miniforge3/envs/Melkor/lib/python3.9/site-packages/torch/_tensor.py:488\u001b[0m, in \u001b[0;36mTensor.backward\u001b[0;34m(self, gradient, retain_graph, create_graph, inputs)\u001b[0m\n\u001b[1;32m    <a href='file:///Users/melkor/miniforge3/envs/Melkor/lib/python3.9/site-packages/torch/_tensor.py?line=477'>478</a>\u001b[0m \u001b[39mif\u001b[39;00m has_torch_function_unary(\u001b[39mself\u001b[39m):\n\u001b[1;32m    <a href='file:///Users/melkor/miniforge3/envs/Melkor/lib/python3.9/site-packages/torch/_tensor.py?line=478'>479</a>\u001b[0m     \u001b[39mreturn\u001b[39;00m handle_torch_function(\n\u001b[1;32m    <a href='file:///Users/melkor/miniforge3/envs/Melkor/lib/python3.9/site-packages/torch/_tensor.py?line=479'>480</a>\u001b[0m         Tensor\u001b[39m.\u001b[39mbackward,\n\u001b[1;32m    <a href='file:///Users/melkor/miniforge3/envs/Melkor/lib/python3.9/site-packages/torch/_tensor.py?line=480'>481</a>\u001b[0m         (\u001b[39mself\u001b[39m,),\n\u001b[0;32m   (...)\u001b[0m\n\u001b[1;32m    <a href='file:///Users/melkor/miniforge3/envs/Melkor/lib/python3.9/site-packages/torch/_tensor.py?line=485'>486</a>\u001b[0m         inputs\u001b[39m=\u001b[39minputs,\n\u001b[1;32m    <a href='file:///Users/melkor/miniforge3/envs/Melkor/lib/python3.9/site-packages/torch/_tensor.py?line=486'>487</a>\u001b[0m     )\n\u001b[0;32m--> <a href='file:///Users/melkor/miniforge3/envs/Melkor/lib/python3.9/site-packages/torch/_tensor.py?line=487'>488</a>\u001b[0m torch\u001b[39m.\u001b[39;49mautograd\u001b[39m.\u001b[39;49mbackward(\n\u001b[1;32m    <a href='file:///Users/melkor/miniforge3/envs/Melkor/lib/python3.9/site-packages/torch/_tensor.py?line=488'>489</a>\u001b[0m     \u001b[39mself\u001b[39;49m, gradient, retain_graph, create_graph, inputs\u001b[39m=\u001b[39;49minputs\n\u001b[1;32m    <a href='file:///Users/melkor/miniforge3/envs/Melkor/lib/python3.9/site-packages/torch/_tensor.py?line=489'>490</a>\u001b[0m )\n",
      "File \u001b[0;32m~/miniforge3/envs/Melkor/lib/python3.9/site-packages/torch/autograd/__init__.py:197\u001b[0m, in \u001b[0;36mbackward\u001b[0;34m(tensors, grad_tensors, retain_graph, create_graph, grad_variables, inputs)\u001b[0m\n\u001b[1;32m    <a href='file:///Users/melkor/miniforge3/envs/Melkor/lib/python3.9/site-packages/torch/autograd/__init__.py?line=191'>192</a>\u001b[0m     retain_graph \u001b[39m=\u001b[39m create_graph\n\u001b[1;32m    <a href='file:///Users/melkor/miniforge3/envs/Melkor/lib/python3.9/site-packages/torch/autograd/__init__.py?line=193'>194</a>\u001b[0m \u001b[39m# The reason we repeat same the comment below is that\u001b[39;00m\n\u001b[1;32m    <a href='file:///Users/melkor/miniforge3/envs/Melkor/lib/python3.9/site-packages/torch/autograd/__init__.py?line=194'>195</a>\u001b[0m \u001b[39m# some Python versions print out the first line of a multi-line function\u001b[39;00m\n\u001b[1;32m    <a href='file:///Users/melkor/miniforge3/envs/Melkor/lib/python3.9/site-packages/torch/autograd/__init__.py?line=195'>196</a>\u001b[0m \u001b[39m# calls in the traceback and some print out the last line\u001b[39;00m\n\u001b[0;32m--> <a href='file:///Users/melkor/miniforge3/envs/Melkor/lib/python3.9/site-packages/torch/autograd/__init__.py?line=196'>197</a>\u001b[0m Variable\u001b[39m.\u001b[39;49m_execution_engine\u001b[39m.\u001b[39;49mrun_backward(  \u001b[39m# Calls into the C++ engine to run the backward pass\u001b[39;49;00m\n\u001b[1;32m    <a href='file:///Users/melkor/miniforge3/envs/Melkor/lib/python3.9/site-packages/torch/autograd/__init__.py?line=197'>198</a>\u001b[0m     tensors, grad_tensors_, retain_graph, create_graph, inputs,\n\u001b[1;32m    <a href='file:///Users/melkor/miniforge3/envs/Melkor/lib/python3.9/site-packages/torch/autograd/__init__.py?line=198'>199</a>\u001b[0m     allow_unreachable\u001b[39m=\u001b[39;49m\u001b[39mTrue\u001b[39;49;00m, accumulate_grad\u001b[39m=\u001b[39;49m\u001b[39mTrue\u001b[39;49;00m)\n",
      "\u001b[0;31mKeyboardInterrupt\u001b[0m: "
     ]
    }
   ],
   "source": [
    "import sys\n",
    "for param in model.central_executor.parameters():\n",
    "    param.requires_grad = True\n",
    "for param in model.perception.parameters():\n",
    "    param.requires_grad = False\n",
    "optim = torch.optim.Adam(model.parameters(), lr = 2e-4)\n",
    "\n",
    "outputs = model.perception(ims, masks.long().unsqueeze(1))\n",
    "backbone_features = outputs[\"features\"]\n",
    "\n",
    "for epoch in range(4000):\n",
    "    context = {\n",
    "        \"end\":logit(alives[b].squeeze(-1)),\n",
    "        \"masks\": logit(all_masks[b].permute(2,0,1).flatten(start_dim = 1, end_dim = 2)),\n",
    "        \"features\": backbone_features[b].flatten(start_dim = 0, end_dim = 1),\n",
    "        \"model\": model\n",
    "    }\n",
    "    \n",
    "    loss = 0.0\n",
    "    u1 = 3\n",
    "    u2 = 6\n",
    "\n",
    "    o = Program.parse(p1.format(\"red\")).evaluate({0:context})\n",
    "    loss -= torch.log(torch.sigmoid(o[\"end\"][u1]))\n",
    "    o = Program.parse(p2.format(\"red\")).evaluate({0:context})\n",
    "    loss -= torch.log(1 - torch.sigmoid(o[\"end\"][u2]))\n",
    "\n",
    "    o = Program.parse(p1.format(\"blue\")).evaluate({0:context})\n",
    "    loss -= torch.log(torch.sigmoid(o[\"end\"][u2]))\n",
    "    o = Program.parse(p2.format(\"blue\")).evaluate({0:context})\n",
    "    loss -= torch.log(1 - torch.sigmoid(o[\"end\"][u1]))\n",
    "\n",
    "    optim.zero_grad()\n",
    "    loss.backward()\n",
    "    optim.step()\n",
    "    vr=model.get_concept_embedding(\"green\")\n",
    "    vg=model.get_concept_embedding(\"blue\")\n",
    "    sys.stdout.write(f\"\\repoch:{epoch} loss:{loss} cos:{torch.cosine_similarity(vr,vg)}\")"
   ]
  },
  {
   "cell_type": "code",
   "execution_count": 65,
   "metadata": {},
   "outputs": [
    {
     "name": "stdout",
     "output_type": "stream",
     "text": [
      "tensor([0.5443], grad_fn=<SumBackward1>)\n"
     ]
    }
   ],
   "source": [
    "vr=model.get_concept_embedding(\"green\")\n",
    "vg=model.get_concept_embedding(\"blue\")\n",
    "print(torch.cosine_similarity(vr,vg))"
   ]
  },
  {
   "cell_type": "code",
   "execution_count": 30,
   "metadata": {},
   "outputs": [
    {
     "data": {
      "image/png": "[encoded data removed]",
      "text/plain": [
       "<Figure size 432x288 with 3 Axes>"
      ]
     },
     "metadata": {
      "needs_background": "light"
     },
     "output_type": "display_data"
    }
   ],
   "source": [
    "with open(\"outputs/logqa.txt\",\"w\") as log_file:\n",
    "    for i in range(len(programs)):\n",
    "        log_file.write(\"q:\"+questions[i][0]+\"\\n\")\n",
    "        log_file.write(\"p:\"+programs[i][0]+\"\\n\")\n",
    "        log_file.write(\"answer:\"+answers[i][0]+\"\\n\\n\")\n",
    "fig = plt.figure(\"visualize data\")\n",
    "for b in range(batch_size):\n",
    "    ax = fig.add_subplot(1,batch_size,b+1)\n",
    "    ax.imshow(sample[\"img\"][b].permute(1,2,0))\n",
    "        "
   ]
  },
  {
   "cell_type": "code",
   "execution_count": 41,
   "metadata": {},
   "outputs": [
    {
     "name": "stdout",
     "output_type": "stream",
     "text": [
      "red\n"
     ]
    },
    {
     "data": {
      "image/png": "[encoded data removed]",
      "text/plain": [
       "<Figure size 432x288 with 1 Axes>"
      ]
     },
     "metadata": {
      "needs_background": "light"
     },
     "output_type": "display_data"
    },
    {
     "name": "stdout",
     "output_type": "stream",
     "text": [
      "shape:[64, 64] max:0.0026279687881469727 min:-1.0413795709609985\n",
      "green\n"
     ]
    },
    {
     "data": {
      "image/png": "[encoded data removed]",
      "text/plain": [
       "<Figure size 432x288 with 1 Axes>"
      ]
     },
     "metadata": {
      "needs_background": "light"
     },
     "output_type": "display_data"
    },
    {
     "name": "stdout",
     "output_type": "stream",
     "text": [
      "shape:[64, 64] max:0.17915546894073486 min:-0.30053794384002686\n",
      "blue\n"
     ]
    },
    {
     "data": {
      "image/png": "[encoded data removed]",
      "text/plain": [
       "<Figure size 432x288 with 1 Axes>"
      ]
     },
     "metadata": {
      "needs_background": "light"
     },
     "output_type": "display_data"
    },
    {
     "name": "stdout",
     "output_type": "stream",
     "text": [
      "shape:[64, 64] max:-0.002148747444152832 min:-0.8809125423431396\n"
     ]
    }
   ],
   "source": [
    "from rinarak.utils.tensor import stats_summary\n",
    "mapper = model.implementations[\"color\"]\n",
    "concept_feature_map = mapper(context[\"features\"])\n",
    "value_feature_maps = []\n",
    "for value in [\"red\", \"green\", \"blue\"]:\n",
    "    print(value)\n",
    "    value_map = model.entailment(concept_feature_map, model.get_concept_embedding(value)).reshape([64,64])\n",
    "    plt.imshow(value_map.sigmoid().detach())\n",
    "    plt.show()\n",
    "    stats_summary(value_map)"
   ]
  },
  {
   "cell_type": "code",
   "execution_count": 50,
   "metadata": {},
   "outputs": [
    {
     "data": {
      "image/png": "[encoded data removed]",
      "text/plain": [
       "<Figure size 432x288 with 1 Axes>"
      ]
     },
     "metadata": {
      "needs_background": "light"
     },
     "output_type": "display_data"
    },
    {
     "name": "stdout",
     "output_type": "stream",
     "text": [
      "shape:[64, 64] max:-1.1431516408920288 min:-1.2043507099151611\n"
     ]
    },
    {
     "data": {
      "image/png": "[encoded data removed]",
      "text/plain": [
       "<Figure size 432x288 with 1 Axes>"
      ]
     },
     "metadata": {
      "needs_background": "light"
     },
     "output_type": "display_data"
    },
    {
     "name": "stdout",
     "output_type": "stream",
     "text": [
      "shape:[64, 64] max:-1.1230876445770264 min:-1.4070476293563843\n"
     ]
    },
    {
     "data": {
      "image/png": "[encoded data removed]",
      "text/plain": [
       "<Figure size 432x288 with 1 Axes>"
      ]
     },
     "metadata": {
      "needs_background": "light"
     },
     "output_type": "display_data"
    },
    {
     "name": "stdout",
     "output_type": "stream",
     "text": [
      "shape:[64, 64] max:-1.2420650720596313 min:-1.3049750328063965\n"
     ]
    }
   ],
   "source": [
    "mapper = model.implementations[\"shape\"]\n",
    "concept_feature_map = mapper(context[\"features\"])\n",
    "value_feature_maps = []\n",
    "for value in [\"square\", \"circle\", \"diamond\"]:\n",
    "    value_map = model.entailment(concept_feature_map, model.get_concept_embedding(value)).reshape([64,64])\n",
    "    plt.imshow(value_map.sigmoid().detach())\n",
    "    plt.show()\n",
    "    stats_summary(value_map)"
   ]
  }
 ],
 "metadata": {
  "interpreter": {
   "hash": "a47e46093c771f9510c4aabf3710bfb1355e5f870a13f8c22092f45d4d23626d"
  },
  "kernelspec": {
   "display_name": "Python 3.9.13 ('Melkor')",
   "language": "python",
   "name": "python3"
  },
  "language_info": {
   "codemirror_mode": {
    "name": "ipython",
    "version": 3
   },
   "file_extension": ".py",
   "mimetype": "text/x-python",
   "name": "python",
   "nbconvert_exporter": "python",
   "pygments_lexer": "ipython3",
   "version": "3.9.13"
  },
  "orig_nbformat": 4
 },
 "nbformat": 4,
 "nbformat_minor": 2
}
