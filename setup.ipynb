{
 "cells": [
  {
   "cell_type": "code",
   "execution_count": null,
   "metadata": {},
   "outputs": [],
   "source": [
    "# Download the Model Package\n",
    "!git clone https://github.com/ZongjingLi/MetaVisualConceptLearner.git"
   ]
  },
  {
   "cell_type": "code",
   "execution_count": null,
   "metadata": {},
   "outputs": [],
   "source": [
    "# [To Install Environment Manually]\n",
    "!pip install scipy\n",
    "!pip install networkx\n",
    "!pip install gym\n",
    "!pip install pygame\n",
    "!pip install pycocotools\n",
    "!pip install opencv-python\n",
    "!pip install imageio\n",
    "!pip install scikit-image\n",
    "!pip install pandas\n",
    "!pip install opendatasets \n",
    "!pip install tinyenv\n",
    "!pip install lark\n",
    "!pip install torch_sparse==0.6.16\n",
    "!pip install torch_scatter==2.1.0\n",
    "!pip install torchvision\n",
    "!pip install kornia\n",
    "!pip install fvcore\n",
    "!pip install detectron2"
   ]
  },
  {
   "cell_type": "code",
   "execution_count": 2,
   "metadata": {},
   "outputs": [
    {
     "name": "stdout",
     "output_type": "stream",
     "text": [
      "Cloning into 'rinarak'...\n",
      "remote: Enumerating objects: 245, done.\u001b[K\n",
      "remote: Counting objects: 100% (245/245), done.\u001b[K\n",
      "remote: Compressing objects: 100% (170/170), done.\u001b[K\n",
      "remote: Total 245 (delta 109), reused 197 (delta 61), pack-reused 0\u001b[K\n",
      "Receiving objects: 100% (245/245), 960.04 KiB | 7.74 MiB/s, done.\n",
      "Resolving deltas: 100% (109/109), done.\n",
      "Processing ./rinarak\n",
      "  Preparing metadata (setup.py) ... \u001b[?25ldone\n",
      "\u001b[?25hBuilding wheels for collected packages: rinarak\n",
      "  Building wheel for rinarak (setup.py) ... \u001b[?25ldone\n",
      "\u001b[?25h  Created wheel for rinarak: filename=rinarak-1.0-py3-none-any.whl size=61033 sha256=485f6965cabb5cb3cadc2c164bba6ccfd6de843083f89dd160218eb50c77a93a\n",
      "  Stored in directory: /private/var/folders/tp/c2bzzvd17y35z8x_20mfhn700000gn/T/pip-ephem-wheel-cache-qv_upkwa/wheels/48/62/a0/4e07ad1c131e1c7e654ef3a09cef9d099a1752486037e9010c\n",
      "Successfully built rinarak\n",
      "\u001b[33mDEPRECATION: pytorch-lightning 1.6.3 has a non-standard dependency specifier torch>=1.8.*. pip 23.3 will enforce this behaviour change. A possible replacement is to upgrade to a newer version of pytorch-lightning or contact the author to suggest that they release a version with a conforming dependency specifiers. Discussion can be found at https://github.com/pypa/pip/issues/12063\u001b[0m\u001b[33m\n",
      "\u001b[0mInstalling collected packages: rinarak\n",
      "  Attempting uninstall: rinarak\n",
      "    Found existing installation: rinarak 1.0\n",
      "    Uninstalling rinarak-1.0:\n",
      "      Successfully uninstalled rinarak-1.0\n",
      "Successfully installed rinarak-1.0\n",
      "\n",
      "\u001b[1m[\u001b[0m\u001b[34;49mnotice\u001b[0m\u001b[1;39;49m]\u001b[0m\u001b[39;49m A new release of pip is available: \u001b[0m\u001b[31;49m23.2.1\u001b[0m\u001b[39;49m -> \u001b[0m\u001b[32;49m24.0\u001b[0m\n",
      "\u001b[1m[\u001b[0m\u001b[34;49mnotice\u001b[0m\u001b[1;39;49m]\u001b[0m\u001b[39;49m To update, run: \u001b[0m\u001b[32;49mpip install --upgrade pip\u001b[0m\n"
     ]
    }
   ],
   "source": [
    "# Download and setup some packages\n",
    "!git clone https://github.com/ZongjingLi/rinarak.git\n",
    "!pip install /Users/melkor/Documents/GitHub/MetaVisualConceptLearner/rinarak"
   ]
  },
  {
   "cell_type": "code",
   "execution_count": 4,
   "metadata": {},
   "outputs": [
    {
     "name": "stdout",
     "output_type": "stream",
     "text": [
      "0.6.16\n",
      "2.1.0\n"
     ]
    }
   ],
   "source": [
    "!pip install torch_sparse==0.6.16\n",
    "!pip install torch_scatter==2.1.0\n",
    "!pip install torchvision\n",
    "!pip install kornia\n",
    "!pip install fvcore\n",
    "!pip install detectron2"
   ]
  },
  {
   "cell_type": "code",
   "execution_count": 1,
   "metadata": {},
   "outputs": [
    {
     "name": "stdout",
     "output_type": "stream",
     "text": [
      "2.2.2\n"
     ]
    }
   ],
   "source": [
    "import torch\n",
    "print(torch.__version__)"
   ]
  },
  {
   "cell_type": "code",
   "execution_count": 4,
   "metadata": {},
   "outputs": [
    {
     "name": "stdout",
     "output_type": "stream",
     "text": [
      "Please provide your Kaggle credentials to download this dataset. Learn more: http://bit.ly/kaggle-creds\n",
      "Your Kaggle username:Your Kaggle Key:"
     ]
    },
    {
     "name": "stderr",
     "output_type": "stream",
     "text": [
      "  0%|          | 3.00M/3.75G [00:00<02:29, 26.9MB/s]"
     ]
    },
    {
     "name": "stdout",
     "output_type": "stream",
     "text": [
      "Downloading structurenet.zip to autodl-tmp/structurenet\n"
     ]
    },
    {
     "name": "stderr",
     "output_type": "stream",
     "text": [
      " 12%|█▏        | 460M/3.75G [00:10<01:16, 46.4MB/s] \n"
     ]
    },
    {
     "ename": "KeyboardInterrupt",
     "evalue": "",
     "output_type": "error",
     "traceback": [
      "\u001b[0;31m---------------------------------------------------------------------------\u001b[0m",
      "\u001b[0;31mKeyboardInterrupt\u001b[0m                         Traceback (most recent call last)",
      "\u001b[1;32m/Users/melkor/Documents/GitHub/MetaVisualConceptLearner/setup.ipynb Cell 4'\u001b[0m in \u001b[0;36m<cell line: 11>\u001b[0;34m()\u001b[0m\n\u001b[1;32m      <a href='vscode-notebook-cell:/Users/melkor/Documents/GitHub/MetaVisualConceptLearner/setup.ipynb#ch0000003?line=7'>8</a>\u001b[0m dataset_directory \u001b[39m=\u001b[39m \u001b[39m\"\u001b[39m\u001b[39mautodl_tmp\u001b[39m\u001b[39m\"\u001b[39m \u001b[39mif\u001b[39;00m remote \u001b[39melse\u001b[39;00m \u001b[39m\"\u001b[39m\u001b[39mdatasets\u001b[39m\u001b[39m\"\u001b[39m\n\u001b[1;32m     <a href='vscode-notebook-cell:/Users/melkor/Documents/GitHub/MetaVisualConceptLearner/setup.ipynb#ch0000003?line=9'>10</a>\u001b[0m \u001b[39m# [StructureNet]\u001b[39;00m\n\u001b[0;32m---> <a href='vscode-notebook-cell:/Users/melkor/Documents/GitHub/MetaVisualConceptLearner/setup.ipynb#ch0000003?line=10'>11</a>\u001b[0m od\u001b[39m.\u001b[39;49mdownload(\u001b[39m\"\u001b[39;49m\u001b[39mhttps://www.kaggle.com/datasets/rinsun/structurenet\u001b[39;49m\u001b[39m\"\u001b[39;49m,\u001b[39m\"\u001b[39;49m\u001b[39mautodl-tmp\u001b[39;49m\u001b[39m\"\u001b[39;49m)\n",
      "File \u001b[0;32m~/miniforge3/envs/Melkor/lib/python3.9/site-packages/opendatasets/__init__.py:13\u001b[0m, in \u001b[0;36mdownload\u001b[0;34m(dataset_id_or_url, data_dir, force, dry_run, **kwargs)\u001b[0m\n\u001b[1;32m     <a href='file:///Users/melkor/miniforge3/envs/Melkor/lib/python3.9/site-packages/opendatasets/__init__.py?line=9'>10</a>\u001b[0m \u001b[39mdef\u001b[39;00m \u001b[39mdownload\u001b[39m(dataset_id_or_url, data_dir\u001b[39m=\u001b[39m\u001b[39m'\u001b[39m\u001b[39m.\u001b[39m\u001b[39m'\u001b[39m, force\u001b[39m=\u001b[39m\u001b[39mFalse\u001b[39;00m, dry_run\u001b[39m=\u001b[39m\u001b[39mFalse\u001b[39;00m, \u001b[39m*\u001b[39m\u001b[39m*\u001b[39mkwargs):\n\u001b[1;32m     <a href='file:///Users/melkor/miniforge3/envs/Melkor/lib/python3.9/site-packages/opendatasets/__init__.py?line=10'>11</a>\u001b[0m     \u001b[39m# Check for a Kaggle dataset URL\u001b[39;00m\n\u001b[1;32m     <a href='file:///Users/melkor/miniforge3/envs/Melkor/lib/python3.9/site-packages/opendatasets/__init__.py?line=11'>12</a>\u001b[0m     \u001b[39mif\u001b[39;00m is_kaggle_url(dataset_id_or_url):\n\u001b[0;32m---> <a href='file:///Users/melkor/miniforge3/envs/Melkor/lib/python3.9/site-packages/opendatasets/__init__.py?line=12'>13</a>\u001b[0m         \u001b[39mreturn\u001b[39;00m download_kaggle_dataset(dataset_id_or_url, data_dir\u001b[39m=\u001b[39;49mdata_dir, force\u001b[39m=\u001b[39;49mforce, dry_run\u001b[39m=\u001b[39;49mdry_run)\n\u001b[1;32m     <a href='file:///Users/melkor/miniforge3/envs/Melkor/lib/python3.9/site-packages/opendatasets/__init__.py?line=14'>15</a>\u001b[0m     \u001b[39m# Check for Google Drive URL\u001b[39;00m\n\u001b[1;32m     <a href='file:///Users/melkor/miniforge3/envs/Melkor/lib/python3.9/site-packages/opendatasets/__init__.py?line=15'>16</a>\u001b[0m     \u001b[39mif\u001b[39;00m is_google_drive_url(dataset_id_or_url):\n",
      "File \u001b[0;32m~/miniforge3/envs/Melkor/lib/python3.9/site-packages/opendatasets/utils/kaggle_api.py:65\u001b[0m, in \u001b[0;36mdownload_kaggle_dataset\u001b[0;34m(dataset_url, data_dir, force, dry_run)\u001b[0m\n\u001b[1;32m     <a href='file:///Users/melkor/miniforge3/envs/Melkor/lib/python3.9/site-packages/opendatasets/utils/kaggle_api.py?line=62'>63</a>\u001b[0m             \u001b[39mprint\u001b[39m(\u001b[39m'\u001b[39m\u001b[39mCould not delete zip file, got\u001b[39m\u001b[39m'\u001b[39m \u001b[39m+\u001b[39m \u001b[39mstr\u001b[39m(e))\n\u001b[1;32m     <a href='file:///Users/melkor/miniforge3/envs/Melkor/lib/python3.9/site-packages/opendatasets/utils/kaggle_api.py?line=63'>64</a>\u001b[0m     \u001b[39melse\u001b[39;00m:\n\u001b[0;32m---> <a href='file:///Users/melkor/miniforge3/envs/Melkor/lib/python3.9/site-packages/opendatasets/utils/kaggle_api.py?line=64'>65</a>\u001b[0m         api\u001b[39m.\u001b[39;49mdataset_download_files(\n\u001b[1;32m     <a href='file:///Users/melkor/miniforge3/envs/Melkor/lib/python3.9/site-packages/opendatasets/utils/kaggle_api.py?line=65'>66</a>\u001b[0m             dataset_id,\n\u001b[1;32m     <a href='file:///Users/melkor/miniforge3/envs/Melkor/lib/python3.9/site-packages/opendatasets/utils/kaggle_api.py?line=66'>67</a>\u001b[0m             target_dir,\n\u001b[1;32m     <a href='file:///Users/melkor/miniforge3/envs/Melkor/lib/python3.9/site-packages/opendatasets/utils/kaggle_api.py?line=67'>68</a>\u001b[0m             force\u001b[39m=\u001b[39;49mforce,\n\u001b[1;32m     <a href='file:///Users/melkor/miniforge3/envs/Melkor/lib/python3.9/site-packages/opendatasets/utils/kaggle_api.py?line=68'>69</a>\u001b[0m             quiet\u001b[39m=\u001b[39;49m\u001b[39mFalse\u001b[39;49;00m,\n\u001b[1;32m     <a href='file:///Users/melkor/miniforge3/envs/Melkor/lib/python3.9/site-packages/opendatasets/utils/kaggle_api.py?line=69'>70</a>\u001b[0m             unzip\u001b[39m=\u001b[39;49m\u001b[39mTrue\u001b[39;49;00m)\n\u001b[1;32m     <a href='file:///Users/melkor/miniforge3/envs/Melkor/lib/python3.9/site-packages/opendatasets/utils/kaggle_api.py?line=71'>72</a>\u001b[0m \u001b[39melse\u001b[39;00m:\n\u001b[1;32m     <a href='file:///Users/melkor/miniforge3/envs/Melkor/lib/python3.9/site-packages/opendatasets/utils/kaggle_api.py?line=72'>73</a>\u001b[0m     \u001b[39mprint\u001b[39m(\u001b[39m\"\u001b[39m\u001b[39mThis is a dry run, skipping..\u001b[39m\u001b[39m\"\u001b[39m)\n",
      "File \u001b[0;32m~/miniforge3/envs/Melkor/lib/python3.9/site-packages/kaggle/api/kaggle_api_extended.py:1447\u001b[0m, in \u001b[0;36mKaggleApi.dataset_download_files\u001b[0;34m(self, dataset, path, force, quiet, unzip)\u001b[0m\n\u001b[1;32m   <a href='file:///Users/melkor/miniforge3/envs/Melkor/lib/python3.9/site-packages/kaggle/api/kaggle_api_extended.py?line=1444'>1445</a>\u001b[0m outfile \u001b[39m=\u001b[39m os\u001b[39m.\u001b[39mpath\u001b[39m.\u001b[39mjoin(effective_path, dataset_slug \u001b[39m+\u001b[39m \u001b[39m'\u001b[39m\u001b[39m.zip\u001b[39m\u001b[39m'\u001b[39m)\n\u001b[1;32m   <a href='file:///Users/melkor/miniforge3/envs/Melkor/lib/python3.9/site-packages/kaggle/api/kaggle_api_extended.py?line=1445'>1446</a>\u001b[0m \u001b[39mif\u001b[39;00m force \u001b[39mor\u001b[39;00m \u001b[39mself\u001b[39m\u001b[39m.\u001b[39mdownload_needed(response, outfile, quiet):\n\u001b[0;32m-> <a href='file:///Users/melkor/miniforge3/envs/Melkor/lib/python3.9/site-packages/kaggle/api/kaggle_api_extended.py?line=1446'>1447</a>\u001b[0m     \u001b[39mself\u001b[39;49m\u001b[39m.\u001b[39;49mdownload_file(response, outfile, quiet, \u001b[39mnot\u001b[39;49;00m force)\n\u001b[1;32m   <a href='file:///Users/melkor/miniforge3/envs/Melkor/lib/python3.9/site-packages/kaggle/api/kaggle_api_extended.py?line=1447'>1448</a>\u001b[0m     downloaded \u001b[39m=\u001b[39m \u001b[39mTrue\u001b[39;00m\n\u001b[1;32m   <a href='file:///Users/melkor/miniforge3/envs/Melkor/lib/python3.9/site-packages/kaggle/api/kaggle_api_extended.py?line=1448'>1449</a>\u001b[0m \u001b[39melse\u001b[39;00m:\n",
      "File \u001b[0;32m~/miniforge3/envs/Melkor/lib/python3.9/site-packages/kaggle/api/kaggle_api_extended.py:1874\u001b[0m, in \u001b[0;36mKaggleApi.download_file\u001b[0;34m(self, response, outfile, quiet, resume, chunk_size)\u001b[0m\n\u001b[1;32m   <a href='file:///Users/melkor/miniforge3/envs/Melkor/lib/python3.9/site-packages/kaggle/api/kaggle_api_extended.py?line=1871'>1872</a>\u001b[0m \u001b[39mwith\u001b[39;00m \u001b[39mopen\u001b[39m(outfile, open_mode) \u001b[39mas\u001b[39;00m out:\n\u001b[1;32m   <a href='file:///Users/melkor/miniforge3/envs/Melkor/lib/python3.9/site-packages/kaggle/api/kaggle_api_extended.py?line=1872'>1873</a>\u001b[0m     \u001b[39mwhile\u001b[39;00m \u001b[39mTrue\u001b[39;00m:\n\u001b[0;32m-> <a href='file:///Users/melkor/miniforge3/envs/Melkor/lib/python3.9/site-packages/kaggle/api/kaggle_api_extended.py?line=1873'>1874</a>\u001b[0m         data \u001b[39m=\u001b[39m response\u001b[39m.\u001b[39;49mread(chunk_size)\n\u001b[1;32m   <a href='file:///Users/melkor/miniforge3/envs/Melkor/lib/python3.9/site-packages/kaggle/api/kaggle_api_extended.py?line=1874'>1875</a>\u001b[0m         \u001b[39mif\u001b[39;00m \u001b[39mnot\u001b[39;00m data:\n\u001b[1;32m   <a href='file:///Users/melkor/miniforge3/envs/Melkor/lib/python3.9/site-packages/kaggle/api/kaggle_api_extended.py?line=1875'>1876</a>\u001b[0m             \u001b[39mbreak\u001b[39;00m\n",
      "File \u001b[0;32m~/miniforge3/envs/Melkor/lib/python3.9/site-packages/urllib3/response.py:522\u001b[0m, in \u001b[0;36mHTTPResponse.read\u001b[0;34m(self, amt, decode_content, cache_content)\u001b[0m\n\u001b[1;32m    <a href='file:///Users/melkor/miniforge3/envs/Melkor/lib/python3.9/site-packages/urllib3/response.py?line=519'>520</a>\u001b[0m \u001b[39melse\u001b[39;00m:\n\u001b[1;32m    <a href='file:///Users/melkor/miniforge3/envs/Melkor/lib/python3.9/site-packages/urllib3/response.py?line=520'>521</a>\u001b[0m     cache_content \u001b[39m=\u001b[39m \u001b[39mFalse\u001b[39;00m\n\u001b[0;32m--> <a href='file:///Users/melkor/miniforge3/envs/Melkor/lib/python3.9/site-packages/urllib3/response.py?line=521'>522</a>\u001b[0m     data \u001b[39m=\u001b[39m \u001b[39mself\u001b[39;49m\u001b[39m.\u001b[39;49m_fp\u001b[39m.\u001b[39;49mread(amt) \u001b[39mif\u001b[39;00m \u001b[39mnot\u001b[39;00m fp_closed \u001b[39melse\u001b[39;00m \u001b[39mb\u001b[39m\u001b[39m\"\u001b[39m\u001b[39m\"\u001b[39m\n\u001b[1;32m    <a href='file:///Users/melkor/miniforge3/envs/Melkor/lib/python3.9/site-packages/urllib3/response.py?line=522'>523</a>\u001b[0m     \u001b[39mif\u001b[39;00m (\n\u001b[1;32m    <a href='file:///Users/melkor/miniforge3/envs/Melkor/lib/python3.9/site-packages/urllib3/response.py?line=523'>524</a>\u001b[0m         amt \u001b[39m!=\u001b[39m \u001b[39m0\u001b[39m \u001b[39mand\u001b[39;00m \u001b[39mnot\u001b[39;00m data\n\u001b[1;32m    <a href='file:///Users/melkor/miniforge3/envs/Melkor/lib/python3.9/site-packages/urllib3/response.py?line=524'>525</a>\u001b[0m     ):  \u001b[39m# Platform-specific: Buggy versions of Python.\u001b[39;00m\n\u001b[0;32m   (...)\u001b[0m\n\u001b[1;32m    <a href='file:///Users/melkor/miniforge3/envs/Melkor/lib/python3.9/site-packages/urllib3/response.py?line=530'>531</a>\u001b[0m         \u001b[39m# not properly close the connection in all cases. There is\u001b[39;00m\n\u001b[1;32m    <a href='file:///Users/melkor/miniforge3/envs/Melkor/lib/python3.9/site-packages/urllib3/response.py?line=531'>532</a>\u001b[0m         \u001b[39m# no harm in redundantly calling close.\u001b[39;00m\n\u001b[1;32m    <a href='file:///Users/melkor/miniforge3/envs/Melkor/lib/python3.9/site-packages/urllib3/response.py?line=532'>533</a>\u001b[0m         \u001b[39mself\u001b[39m\u001b[39m.\u001b[39m_fp\u001b[39m.\u001b[39mclose()\n",
      "File \u001b[0;32m~/miniforge3/envs/Melkor/lib/python3.9/http/client.py:463\u001b[0m, in \u001b[0;36mHTTPResponse.read\u001b[0;34m(self, amt)\u001b[0m\n\u001b[1;32m    <a href='file:///Users/melkor/miniforge3/envs/Melkor/lib/python3.9/http/client.py?line=459'>460</a>\u001b[0m \u001b[39mif\u001b[39;00m amt \u001b[39mis\u001b[39;00m \u001b[39mnot\u001b[39;00m \u001b[39mNone\u001b[39;00m:\n\u001b[1;32m    <a href='file:///Users/melkor/miniforge3/envs/Melkor/lib/python3.9/http/client.py?line=460'>461</a>\u001b[0m     \u001b[39m# Amount is given, implement using readinto\u001b[39;00m\n\u001b[1;32m    <a href='file:///Users/melkor/miniforge3/envs/Melkor/lib/python3.9/http/client.py?line=461'>462</a>\u001b[0m     b \u001b[39m=\u001b[39m \u001b[39mbytearray\u001b[39m(amt)\n\u001b[0;32m--> <a href='file:///Users/melkor/miniforge3/envs/Melkor/lib/python3.9/http/client.py?line=462'>463</a>\u001b[0m     n \u001b[39m=\u001b[39m \u001b[39mself\u001b[39;49m\u001b[39m.\u001b[39;49mreadinto(b)\n\u001b[1;32m    <a href='file:///Users/melkor/miniforge3/envs/Melkor/lib/python3.9/http/client.py?line=463'>464</a>\u001b[0m     \u001b[39mreturn\u001b[39;00m \u001b[39mmemoryview\u001b[39m(b)[:n]\u001b[39m.\u001b[39mtobytes()\n\u001b[1;32m    <a href='file:///Users/melkor/miniforge3/envs/Melkor/lib/python3.9/http/client.py?line=464'>465</a>\u001b[0m \u001b[39melse\u001b[39;00m:\n\u001b[1;32m    <a href='file:///Users/melkor/miniforge3/envs/Melkor/lib/python3.9/http/client.py?line=465'>466</a>\u001b[0m     \u001b[39m# Amount is not given (unbounded read) so we must check self.length\u001b[39;00m\n\u001b[1;32m    <a href='file:///Users/melkor/miniforge3/envs/Melkor/lib/python3.9/http/client.py?line=466'>467</a>\u001b[0m     \u001b[39m# and self.chunked\u001b[39;00m\n",
      "File \u001b[0;32m~/miniforge3/envs/Melkor/lib/python3.9/http/client.py:507\u001b[0m, in \u001b[0;36mHTTPResponse.readinto\u001b[0;34m(self, b)\u001b[0m\n\u001b[1;32m    <a href='file:///Users/melkor/miniforge3/envs/Melkor/lib/python3.9/http/client.py?line=501'>502</a>\u001b[0m         b \u001b[39m=\u001b[39m \u001b[39mmemoryview\u001b[39m(b)[\u001b[39m0\u001b[39m:\u001b[39mself\u001b[39m\u001b[39m.\u001b[39mlength]\n\u001b[1;32m    <a href='file:///Users/melkor/miniforge3/envs/Melkor/lib/python3.9/http/client.py?line=503'>504</a>\u001b[0m \u001b[39m# we do not use _safe_read() here because this may be a .will_close\u001b[39;00m\n\u001b[1;32m    <a href='file:///Users/melkor/miniforge3/envs/Melkor/lib/python3.9/http/client.py?line=504'>505</a>\u001b[0m \u001b[39m# connection, and the user is reading more bytes than will be provided\u001b[39;00m\n\u001b[1;32m    <a href='file:///Users/melkor/miniforge3/envs/Melkor/lib/python3.9/http/client.py?line=505'>506</a>\u001b[0m \u001b[39m# (for example, reading in 1k chunks)\u001b[39;00m\n\u001b[0;32m--> <a href='file:///Users/melkor/miniforge3/envs/Melkor/lib/python3.9/http/client.py?line=506'>507</a>\u001b[0m n \u001b[39m=\u001b[39m \u001b[39mself\u001b[39;49m\u001b[39m.\u001b[39;49mfp\u001b[39m.\u001b[39;49mreadinto(b)\n\u001b[1;32m    <a href='file:///Users/melkor/miniforge3/envs/Melkor/lib/python3.9/http/client.py?line=507'>508</a>\u001b[0m \u001b[39mif\u001b[39;00m \u001b[39mnot\u001b[39;00m n \u001b[39mand\u001b[39;00m b:\n\u001b[1;32m    <a href='file:///Users/melkor/miniforge3/envs/Melkor/lib/python3.9/http/client.py?line=508'>509</a>\u001b[0m     \u001b[39m# Ideally, we would raise IncompleteRead if the content-length\u001b[39;00m\n\u001b[1;32m    <a href='file:///Users/melkor/miniforge3/envs/Melkor/lib/python3.9/http/client.py?line=509'>510</a>\u001b[0m     \u001b[39m# wasn't satisfied, but it might break compatibility.\u001b[39;00m\n\u001b[1;32m    <a href='file:///Users/melkor/miniforge3/envs/Melkor/lib/python3.9/http/client.py?line=510'>511</a>\u001b[0m     \u001b[39mself\u001b[39m\u001b[39m.\u001b[39m_close_conn()\n",
      "File \u001b[0;32m~/miniforge3/envs/Melkor/lib/python3.9/socket.py:704\u001b[0m, in \u001b[0;36mSocketIO.readinto\u001b[0;34m(self, b)\u001b[0m\n\u001b[1;32m    <a href='file:///Users/melkor/miniforge3/envs/Melkor/lib/python3.9/socket.py?line=701'>702</a>\u001b[0m \u001b[39mwhile\u001b[39;00m \u001b[39mTrue\u001b[39;00m:\n\u001b[1;32m    <a href='file:///Users/melkor/miniforge3/envs/Melkor/lib/python3.9/socket.py?line=702'>703</a>\u001b[0m     \u001b[39mtry\u001b[39;00m:\n\u001b[0;32m--> <a href='file:///Users/melkor/miniforge3/envs/Melkor/lib/python3.9/socket.py?line=703'>704</a>\u001b[0m         \u001b[39mreturn\u001b[39;00m \u001b[39mself\u001b[39;49m\u001b[39m.\u001b[39;49m_sock\u001b[39m.\u001b[39;49mrecv_into(b)\n\u001b[1;32m    <a href='file:///Users/melkor/miniforge3/envs/Melkor/lib/python3.9/socket.py?line=704'>705</a>\u001b[0m     \u001b[39mexcept\u001b[39;00m timeout:\n\u001b[1;32m    <a href='file:///Users/melkor/miniforge3/envs/Melkor/lib/python3.9/socket.py?line=705'>706</a>\u001b[0m         \u001b[39mself\u001b[39m\u001b[39m.\u001b[39m_timeout_occurred \u001b[39m=\u001b[39m \u001b[39mTrue\u001b[39;00m\n",
      "File \u001b[0;32m~/miniforge3/envs/Melkor/lib/python3.9/ssl.py:1242\u001b[0m, in \u001b[0;36mSSLSocket.recv_into\u001b[0;34m(self, buffer, nbytes, flags)\u001b[0m\n\u001b[1;32m   <a href='file:///Users/melkor/miniforge3/envs/Melkor/lib/python3.9/ssl.py?line=1237'>1238</a>\u001b[0m     \u001b[39mif\u001b[39;00m flags \u001b[39m!=\u001b[39m \u001b[39m0\u001b[39m:\n\u001b[1;32m   <a href='file:///Users/melkor/miniforge3/envs/Melkor/lib/python3.9/ssl.py?line=1238'>1239</a>\u001b[0m         \u001b[39mraise\u001b[39;00m \u001b[39mValueError\u001b[39;00m(\n\u001b[1;32m   <a href='file:///Users/melkor/miniforge3/envs/Melkor/lib/python3.9/ssl.py?line=1239'>1240</a>\u001b[0m           \u001b[39m\"\u001b[39m\u001b[39mnon-zero flags not allowed in calls to recv_into() on \u001b[39m\u001b[39m%s\u001b[39;00m\u001b[39m\"\u001b[39m \u001b[39m%\u001b[39m\n\u001b[1;32m   <a href='file:///Users/melkor/miniforge3/envs/Melkor/lib/python3.9/ssl.py?line=1240'>1241</a>\u001b[0m           \u001b[39mself\u001b[39m\u001b[39m.\u001b[39m\u001b[39m__class__\u001b[39m)\n\u001b[0;32m-> <a href='file:///Users/melkor/miniforge3/envs/Melkor/lib/python3.9/ssl.py?line=1241'>1242</a>\u001b[0m     \u001b[39mreturn\u001b[39;00m \u001b[39mself\u001b[39;49m\u001b[39m.\u001b[39;49mread(nbytes, buffer)\n\u001b[1;32m   <a href='file:///Users/melkor/miniforge3/envs/Melkor/lib/python3.9/ssl.py?line=1242'>1243</a>\u001b[0m \u001b[39melse\u001b[39;00m:\n\u001b[1;32m   <a href='file:///Users/melkor/miniforge3/envs/Melkor/lib/python3.9/ssl.py?line=1243'>1244</a>\u001b[0m     \u001b[39mreturn\u001b[39;00m \u001b[39msuper\u001b[39m()\u001b[39m.\u001b[39mrecv_into(buffer, nbytes, flags)\n",
      "File \u001b[0;32m~/miniforge3/envs/Melkor/lib/python3.9/ssl.py:1100\u001b[0m, in \u001b[0;36mSSLSocket.read\u001b[0;34m(self, len, buffer)\u001b[0m\n\u001b[1;32m   <a href='file:///Users/melkor/miniforge3/envs/Melkor/lib/python3.9/ssl.py?line=1097'>1098</a>\u001b[0m \u001b[39mtry\u001b[39;00m:\n\u001b[1;32m   <a href='file:///Users/melkor/miniforge3/envs/Melkor/lib/python3.9/ssl.py?line=1098'>1099</a>\u001b[0m     \u001b[39mif\u001b[39;00m buffer \u001b[39mis\u001b[39;00m \u001b[39mnot\u001b[39;00m \u001b[39mNone\u001b[39;00m:\n\u001b[0;32m-> <a href='file:///Users/melkor/miniforge3/envs/Melkor/lib/python3.9/ssl.py?line=1099'>1100</a>\u001b[0m         \u001b[39mreturn\u001b[39;00m \u001b[39mself\u001b[39;49m\u001b[39m.\u001b[39;49m_sslobj\u001b[39m.\u001b[39;49mread(\u001b[39mlen\u001b[39;49m, buffer)\n\u001b[1;32m   <a href='file:///Users/melkor/miniforge3/envs/Melkor/lib/python3.9/ssl.py?line=1100'>1101</a>\u001b[0m     \u001b[39melse\u001b[39;00m:\n\u001b[1;32m   <a href='file:///Users/melkor/miniforge3/envs/Melkor/lib/python3.9/ssl.py?line=1101'>1102</a>\u001b[0m         \u001b[39mreturn\u001b[39;00m \u001b[39mself\u001b[39m\u001b[39m.\u001b[39m_sslobj\u001b[39m.\u001b[39mread(\u001b[39mlen\u001b[39m)\n",
      "\u001b[0;31mKeyboardInterrupt\u001b[0m: "
     ]
    }
   ],
   "source": [
    "# [Download Necessay Dataset]\n",
    "import opendatasets as od\n",
    "import pandas\n",
    "\n",
    "remote = False\n",
    "{\"username\":\"rinsun\",\"key\":\"ce45bf131ef12e0f91231b91753e164f\"}\n",
    "\n",
    "dataset_directory = \"autodl_tmp\" if remote else \"datasets\"\n",
    "\n",
    "# [StructureNet]\n",
    "dataset_names = [\"structurenet\"]\n",
    "for name in dataset_names:\n",
    "    od.download(\"https://www.kaggle.com/datasets/rinsun/{dataset_name}\",f\"{dataset_directory}\")\n",
    "#od.download(\"https://www.kaggle.com/datasets/rinsun/structureqa\",\"autodl-tmp\")\n"
   ]
  }
 ],
 "metadata": {
  "interpreter": {
   "hash": "a47e46093c771f9510c4aabf3710bfb1355e5f870a13f8c22092f45d4d23626d"
  },
  "kernelspec": {
   "display_name": "Python 3.9.13 ('Melkor')",
   "language": "python",
   "name": "python3"
  },
  "language_info": {
   "codemirror_mode": {
    "name": "ipython",
    "version": 3
   },
   "file_extension": ".py",
   "mimetype": "text/x-python",
   "name": "python",
   "nbconvert_exporter": "python",
   "pygments_lexer": "ipython3",
   "version": "3.9.13"
  },
  "orig_nbformat": 4
 },
 "nbformat": 4,
 "nbformat_minor": 2
}
