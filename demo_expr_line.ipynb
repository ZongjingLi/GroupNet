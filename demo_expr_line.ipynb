{
 "cells": [
  {
   "cell_type": "code",
   "execution_count": 1,
   "metadata": {},
   "outputs": [
    {
     "name": "stdout",
     "output_type": "stream",
     "text": [
      "[Taichi] version 1.7.0, llvm 15.0.7, commit 7b58b0ff, osx, python 3.9.13\n"
     ]
    },
    {
     "name": "stderr",
     "output_type": "stream",
     "text": [
      "[I 02/17/24 03:15:54.935 4678197] [shell.py:_shell_pop_print@23] Graphical python shell detected, using wrapped sys.stdout\n"
     ]
    }
   ],
   "source": [
    "import torch\n",
    "import torch.nn as nn\n",
    "import matplotlib.pyplot as plt\n",
    "from mvcl.model import MetaVisualLearner\n",
    "from mvcl.config import config\n",
    "\n",
    "from datasets.line_demo_dataset import LineDemoDataset\n",
    "from rinarak.utils.tensor import logit, stats_summary\n",
    "from rinarak.program import Program"
   ]
  },
  {
   "cell_type": "code",
   "execution_count": 2,
   "metadata": {},
   "outputs": [],
   "source": [
    "from rinarak.domain import *\n",
    "domain_parser = Domain(\"mvcl/base.grammar\")\n",
    "meta_domain_str = f\"\"\"\n",
    "(domain line_demo)\n",
    "(:type\n",
    "    color\n",
    ")\n",
    "(:predicate\n",
    "    color ?x-object -> vector[float,100]\n",
    "\n",
    "    red ?x-color -> boolean\n",
    "    blue ?x-color -> boolean\n",
    "    green ?x-color -> boolean\n",
    "    not-any-color ?x-color -> boolean\n",
    ")\n",
    "(:constraint\n",
    "    (color: red blue green not-any-color)\n",
    ")\n",
    "\"\"\"\n",
    "domain = load_domain_string(meta_domain_str, domain_parser)"
   ]
  },
  {
   "cell_type": "code",
   "execution_count": 5,
   "metadata": {},
   "outputs": [],
   "source": [
    "from mvcl.custom import build_custom\n",
    "config.concept_type = \"cone\"\n",
    "model = MetaVisualLearner(domain, config)\n",
    "model = build_custom(model, domain.domain_name)"
   ]
  },
  {
   "cell_type": "code",
   "execution_count": 11,
   "metadata": {},
   "outputs": [
    {
     "name": "stdout",
     "output_type": "stream",
     "text": [
      "torch.Size([12, 30, 32])\n"
     ]
    }
   ],
   "source": [
    "batch_size = 12\n",
    "line_length = 30\n",
    "inputs = torch.randn([batch_size, line_length, 1])\n",
    "\n",
    "features = model.implementations[\"universal\"](inputs)\n",
    "print(features.shape)"
   ]
  }
 ],
 "metadata": {
  "interpreter": {
   "hash": "a47e46093c771f9510c4aabf3710bfb1355e5f870a13f8c22092f45d4d23626d"
  },
  "kernelspec": {
   "display_name": "Python 3.9.13 ('Melkor')",
   "language": "python",
   "name": "python3"
  },
  "language_info": {
   "codemirror_mode": {
    "name": "ipython",
    "version": 3
   },
   "file_extension": ".py",
   "mimetype": "text/x-python",
   "name": "python",
   "nbconvert_exporter": "python",
   "pygments_lexer": "ipython3",
   "version": "3.9.13"
  },
  "orig_nbformat": 4
 },
 "nbformat": 4,
 "nbformat_minor": 2
}
