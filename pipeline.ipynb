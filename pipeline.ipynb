{
 "cells": [
  {
   "cell_type": "code",
   "execution_count": 1,
   "metadata": {},
   "outputs": [],
   "source": [
    "import torch\n",
    "import torch.nn as nn\n",
    "\n",
    "import numpy as np\n",
    "import matplotlib.pyplot as plt"
   ]
  },
  {
   "cell_type": "code",
   "execution_count": 2,
   "metadata": {},
   "outputs": [
    {
     "name": "stdout",
     "output_type": "stream",
     "text": [
      "[Taichi] version 1.7.0, llvm 15.0.7, commit 7b58b0ff, osx, python 3.9.13\n"
     ]
    },
    {
     "name": "stderr",
     "output_type": "stream",
     "text": [
      "[I 04/09/24 07:30:31.230 2863736] [shell.py:_shell_pop_print@23] Graphical python shell detected, using wrapped sys.stdout\n"
     ]
    }
   ],
   "source": [
    "\"\"\"Build the pure visual model\"\"\"\n",
    "from mvcl.percept.metanet import MetaNet\n",
    "from mvcl.model import MetaVisualLearner, config\n",
    "from mvcl.custom import ObjectAffinityFeatures\n",
    "\n",
    "#affinity = ObjectAffinityFeatures(3, 100)\n",
    "metanet = MetaVisualLearner(None, config)\n",
    "\n",
    "metanet.add_affinities([\"texture\", \"color\", \"category\"])"
   ]
  },
  {
   "cell_type": "code",
   "execution_count": 5,
   "metadata": {},
   "outputs": [
    {
     "name": "stdout",
     "output_type": "stream",
     "text": [
      "torch.Size([1, 3, 16384, 58])\n",
      "torch.Size([1, 16384, 58, 64]) torch.Size([1, 3, 64])\n"
     ]
    },
    {
     "data": {
      "text/plain": [
       "{'loss': 0.0, 'attn': None}"
      ]
     },
     "execution_count": 5,
     "metadata": {},
     "output_type": "execute_result"
    }
   ],
   "source": [
    "B, C, W, H = (1, 3, 128, 128)\n",
    "fake_ims = torch.randn([B,C,W,H])\n",
    "targets = torch.randn([B,W,H,1])\n",
    "\n",
    "#metanet.eval()\n",
    "metanet.freeze_components()\n",
    "metanet.calculate_object_affinity(fake_ims, targets)\n",
    "#plt.imshow(fake_ims[0].permute(1,2,0))"
   ]
  },
  {
   "cell_type": "code",
   "execution_count": 4,
   "metadata": {},
   "outputs": [],
   "source": [
    "\"\"\"Write the code for the adaptive object affinity calculator\"\"\"\n",
    "def calculate_object_affinity(self):\n",
    "    \"\"\"step 1: calculate the attention based on the component affinity key\"\"\"\n",
    "    \n",
    "    \"\"\"step 2: calculate something real\"\"\"\n",
    "    return "
   ]
  },
  {
   "cell_type": "code",
   "execution_count": null,
   "metadata": {},
   "outputs": [],
   "source": []
  }
 ],
 "metadata": {
  "kernelspec": {
   "display_name": "Melkor",
   "language": "python",
   "name": "python3"
  },
  "language_info": {
   "codemirror_mode": {
    "name": "ipython",
    "version": 3
   },
   "file_extension": ".py",
   "mimetype": "text/x-python",
   "name": "python",
   "nbconvert_exporter": "python",
   "pygments_lexer": "ipython3",
   "version": "3.9.13"
  }
 },
 "nbformat": 4,
 "nbformat_minor": 2
}
