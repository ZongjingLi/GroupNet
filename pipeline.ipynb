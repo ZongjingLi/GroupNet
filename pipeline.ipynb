{
 "cells": [
  {
   "cell_type": "code",
   "execution_count": 1,
   "metadata": {},
   "outputs": [],
   "source": [
    "import torch\n",
    "import torch.nn as nn\n",
    "\n",
    "import numpy as np\n",
    "import matplotlib.pyplot as plt"
   ]
  },
  {
   "cell_type": "code",
   "execution_count": 5,
   "metadata": {},
   "outputs": [],
   "source": [
    "\"\"\"Build the pure visual model\"\"\"\n",
    "from mvcl.percept.metanet import MetaNet\n",
    "from mvcl.custom import ObjectAffinityFeatures\n",
    "\n",
    "affinity = ObjectAffinityFeatures(3, 100)\n",
    "metanet = MetaNet()"
   ]
  },
  {
   "cell_type": "code",
   "execution_count": 6,
   "metadata": {},
   "outputs": [],
   "source": [
    "B, C, W, H = (2, 3, 128, 128)\n",
    "fake_ims = torch.randn([B,C,W,H])\n",
    "\n",
    "#plt.imshow(fake_ims[0].permute(1,2,0))"
   ]
  },
  {
   "cell_type": "code",
   "execution_count": 9,
   "metadata": {},
   "outputs": [],
   "source": [
    "\"\"\"calculate the fake affinity for a demo run\"\"\"\n",
    "outputs = metanet(fake_ims, affinity)\n",
    "\n",
    "#print(outputs)"
   ]
  }
 ],
 "metadata": {
  "kernelspec": {
   "display_name": "Melkor",
   "language": "python",
   "name": "python3"
  },
  "language_info": {
   "codemirror_mode": {
    "name": "ipython",
    "version": 3
   },
   "file_extension": ".py",
   "mimetype": "text/x-python",
   "name": "python",
   "nbconvert_exporter": "python",
   "pygments_lexer": "ipython3",
   "version": "3.9.13"
  }
 },
 "nbformat": 4,
 "nbformat_minor": 2
}
