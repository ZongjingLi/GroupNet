{
 "cells": [
  {
   "cell_type": "code",
   "execution_count": 1,
   "metadata": {},
   "outputs": [
    {
     "name": "stdout",
     "output_type": "stream",
     "text": [
      "[Taichi] version 1.7.0, llvm 15.0.7, commit 7b58b0ff, osx, python 3.9.13\n"
     ]
    },
    {
     "name": "stderr",
     "output_type": "stream",
     "text": [
      "[I 02/17/24 15:57:24.089 4498470] [shell.py:_shell_pop_print@23] Graphical python shell detected, using wrapped sys.stdout\n"
     ]
    }
   ],
   "source": [
    "import torch\n",
    "import torch.nn as nn\n",
    "import matplotlib.pyplot as plt\n",
    "from mvcl.model import MetaVisualLearner\n",
    "from mvcl.config import config\n",
    "\n",
    "from datasets.sprites_base_dataset import SpritesBaseDataset\n",
    "from rinarak.utils.tensor import logit, stats_summary\n",
    "from rinarak.program import Program"
   ]
  },
  {
   "cell_type": "code",
   "execution_count": 2,
   "metadata": {},
   "outputs": [],
   "source": [
    "from rinarak.domain import *\n",
    "domain_parser = Domain(\"mvcl/base.grammar\")\n",
    "meta_domain_str = f\"\"\"\n",
    "(domain demo)\n",
    "(:type\n",
    "    object - vector[float,100]\n",
    "    position - vector[float,2]\n",
    "    color - vector[float, 64]\n",
    "    category\n",
    ")\n",
    "(:predicate\n",
    "    color ?x-object -> vector[float,100]\n",
    "    shape ?x-object -> vector[float,100]\n",
    "\n",
    "    red ?x-color -> boolean\n",
    "    blue ?x-color -> boolean\n",
    "    green ?x-color -> boolean\n",
    "    not-any-color ?x-color -> boolean\n",
    "\n",
    "    square ?x-shape -> boolean\n",
    "    circle ?x-shape -> boolean\n",
    "    diamond ?x-shape -> boolean\n",
    "    not-any-shape ?x-shape -> boolean\n",
    ")\n",
    "(:derived\n",
    "    is-good ?x-color expr: (??f ?x)\n",
    "\n",
    ")\n",
    "(:constraint\n",
    "    (color: red blue green)\n",
    "    (shape: square circle diamond)\n",
    ")\n",
    "\"\"\"\n",
    "domain = load_domain_string(meta_domain_str, domain_parser)"
   ]
  },
  {
   "cell_type": "code",
   "execution_count": 3,
   "metadata": {},
   "outputs": [],
   "source": [
    "\"\"\"Load Dataset Sprite Base\"\"\"\n",
    "from torch.utils.data import DataLoader, Dataset\n",
    "dataset = SpritesBaseDataset(\"train\")\n",
    "loader = DataLoader(dataset, batch_size = 1, shuffle = True)"
   ]
  },
  {
   "cell_type": "code",
   "execution_count": 12,
   "metadata": {},
   "outputs": [
    {
     "data": {
      "text/plain": [
       "<All keys matched successfully>"
      ]
     },
     "execution_count": 12,
     "metadata": {},
     "output_type": "execute_result"
    }
   ],
   "source": [
    "from mvcl.custom import build_custom\n",
    "config.concept_type = \"cone\"\n",
    "model = MetaVisualLearner(domain, config)\n",
    "model = build_custom(model, domain.domain_name)\n",
    "#model.perception.load_state_dict(torch.load(\"checkpoints/KFT_percept_backup.pth\"))\n",
    "model.central_executor.load_state_dict(torch.load(\"checkpoints/KFT_knowledge_backup.pth\"))"
   ]
  },
  {
   "cell_type": "code",
   "execution_count": 19,
   "metadata": {},
   "outputs": [
    {
     "data": {
      "image/png": "[encoded data removed]",
      "text/plain": [
       "<Figure size 432x288 with 2 Axes>"
      ]
     },
     "metadata": {
      "needs_background": "light"
     },
     "output_type": "display_data"
    }
   ],
   "source": [
    "for sample in loader: break\n",
    "imgs = sample[\"img\"];masks = sample[\"masks\"]\n",
    "plt.subplot(121);plt.imshow(imgs[0].permute(1,2,0))\n",
    "plt.savefig(\"outputs/input_image.png\", bbox_inches='tight')\n",
    "plt.subplot(122);plt.imshow(masks[0])\n",
    "plt.savefig(\"outputs/gt_masks.png\", bbox_inches='tight')"
   ]
  },
  {
   "cell_type": "code",
   "execution_count": 30,
   "metadata": {},
   "outputs": [
    {
     "name": "stdout",
     "output_type": "stream",
     "text": [
      "torch.Size([1, 64, 64])\n",
      "torch.Size([1, 3, 64, 64])\n"
     ]
    }
   ],
   "source": [
    "def to_instance_masks(one_hot_masks):\n",
    "    ids = torch.unique(one_hot_masks)\n",
    "    masks = []\n",
    "    for i in ids:\n",
    "        masks.append((one_hot_masks == i).unsqueeze(0))\n",
    "    masks = torch.cat(masks, dim = 1) \n",
    "    return masks\n",
    "\n",
    "all_masks = to_instance_masks(masks)\n"
   ]
  },
  {
   "cell_type": "code",
   "execution_count": 33,
   "metadata": {},
   "outputs": [
    {
     "name": "stderr",
     "output_type": "stream",
     "text": [
      "/Users/melkor/miniforge3/envs/Melkor/lib/python3.9/site-packages/torch/nn/_reduction.py:42: UserWarning: size_average and reduce args will be deprecated, please use reduction='mean' instead.\n",
      "  warnings.warn(warning.format(ret))\n",
      "/Users/melkor/miniforge3/envs/Melkor/lib/python3.9/site-packages/torch_sparse/storage.py:14: UserWarning: `layout` argument unset, using default layout \"coo\". This may lead to unexpected behaviour.\n",
      "  warnings.warn('`layout` argument unset, using default layout '\n"
     ]
    },
    {
     "name": "stdout",
     "output_type": "stream",
     "text": [
      "tensor([1., 1., 1.])\n"
     ]
    },
    {
     "data": {
      "image/png": "[encoded data removed]",
      "text/plain": [
       "<Figure size 432x288 with 3 Axes>"
      ]
     },
     "metadata": {
      "needs_background": "light"
     },
     "output_type": "display_data"
    }
   ],
   "source": [
    "percept_outputs = model.perception(imgs, masks.unsqueeze(0).long())\n",
    "all_masks = percept_outputs[\"masks\"]\n",
    "all_masks = to_instance_masks(masks)\n",
    "all_alives = percept_outputs[\"alive\"]\n",
    "all_alives = torch.ones(all_masks.shape[:2])\n",
    "\n",
    "for i in range(all_masks.shape[1]):\n",
    "    plt.subplot(2,5,1+i);plt.imshow(all_masks[0,i,:,:])\n",
    "print(all_alives.flatten())"
   ]
  },
  {
   "cell_type": "code",
   "execution_count": 34,
   "metadata": {},
   "outputs": [],
   "source": [
    "backbone_features = model.implementations[\"universal\"](imgs)\n",
    "b = 0\n",
    "context = {\n",
    "        \"end\":logit(all_alives[b].squeeze(-1)),\n",
    "        \"masks\": logit(all_masks[b].permute(2,0,1).flatten(start_dim = 1, end_dim = 2)),\n",
    "        \"features\": backbone_features[b].flatten(start_dim = 0, end_dim = 1),\n",
    "        \"model\": model\n",
    "    }"
   ]
  },
  {
   "cell_type": "code",
   "execution_count": 149,
   "metadata": {},
   "outputs": [
    {
     "data": {
      "image/png": "[encoded data removed]",
      "text/plain": [
       "<Figure size 432x288 with 10 Axes>"
      ]
     },
     "metadata": {
      "needs_background": "light"
     },
     "output_type": "display_data"
    }
   ],
   "source": [
    "from rinarak.utils.tensor import stats_summary\n",
    "\"\"\"Test the Expand Operator Works\"\"\"    \n",
    "p = \"\"\"(\n",
    "            (Pr (color(expand (scene $0)) ) blue)\n",
    ")\n",
    "\"\"\"\n",
    "\n",
    "p = Program.parse(p)\n",
    "o = p.evaluate({0:context})\n",
    "ends = o[\"end\"].detach()\n",
    "fig = plt.figure(\"ref-masks\")\n",
    "for i in range(ends.shape[0]):\n",
    "    ax = fig.add_subplot(2,5,1+i)\n",
    "    m = all_masks[b,:,:,i:i+1]\n",
    "    #m = 1\n",
    "    ax.imshow(m * imgs[b].permute(1,2,0)*ends[i].reshape([64,64,1]).sigmoid())"
   ]
  },
  {
   "cell_type": "code",
   "execution_count": 118,
   "metadata": {},
   "outputs": [
    {
     "name": "stdout",
     "output_type": "stream",
     "text": [
      "tensor([9.9428e-01, 2.0590e-02, 6.0707e-02, 1.0000e-06, 1.0000e-06, 1.0000e-06,\n",
      "        1.0000e-06, 1.0000e-06, 1.0000e-06, 1.0000e-06])\n",
      "tensor([2.6758e-01, 2.6624e-01, 2.5433e-01, 1.0000e-06, 1.0000e-06, 1.0000e-06,\n",
      "        1.0000e-06, 1.0000e-06, 1.0000e-06, 1.0000e-06])\n"
     ]
    }
   ],
   "source": [
    "p = \"\"\"\n",
    "(\n",
    "    intersect \n",
    "    (exists\n",
    "        (intersect\n",
    "            (Pr (color (expand (scene $0)) ) red) \n",
    "            (expand (scene $0))\n",
    "        )\n",
    "    )\n",
    "    (scene $0)       \n",
    ")\n",
    "\"\"\"\n",
    "p = Program.parse(p)\n",
    "o = p.evaluate({0:context})\n",
    "ends = o[\"end\"].detach()\n",
    "print(ends.sigmoid())\n",
    "\n",
    "p = \"\"\"\n",
    "(\n",
    "    intersect \n",
    "    (forall\n",
    "        (union\n",
    "            (Pr (color (expand (scene $0)) ) blue) \n",
    "            ( not (expand (scene $0)) )\n",
    "        )\n",
    "    )\n",
    "    (scene $0)         \n",
    ")\n",
    "\"\"\"\n",
    "p = Program.parse(p)\n",
    "o = p.evaluate({0:context})\n",
    "ends = o[\"end\"].detach()\n",
    "print(ends.sigmoid())"
   ]
  },
  {
   "cell_type": "code",
   "execution_count": 27,
   "metadata": {},
   "outputs": [],
   "source": [
    "p1 = f\"\"\"(\n",
    "    intersect \n",
    "    (forall\n",
    "        (union\n",
    "            (Pr (color (expand (scene $0)) ) {{}}) \n",
    "            ( not (expand (scene $0)) )\n",
    "        )\n",
    "    )\n",
    "    (scene $0)         \n",
    ")\n",
    "\"\"\"\n",
    "p2 = f\"\"\"(\n",
    "    intersect \n",
    "    (exists\n",
    "        (intersect\n",
    "            (Pr (color (expand (scene $0)) ) {{}}) \n",
    "            (expand (scene $0))\n",
    "        )\n",
    "    )\n",
    "    (scene $0)       \n",
    ")\n",
    "\"\"\""
   ]
  },
  {
   "cell_type": "code",
   "execution_count": 28,
   "metadata": {},
   "outputs": [],
   "source": [
    "backbone_features = model.implementations[\"universal\"](imgs)\n",
    "#print(backbone_features.shape)"
   ]
  },
  {
   "cell_type": "code",
   "execution_count": 370,
   "metadata": {},
   "outputs": [
    {
     "name": "stdout",
     "output_type": "stream",
     "text": [
      "epoch:0 loss:55.262046813964844 cos:tensor([0.7737], grad_fn=<SumBackward1>)"
     ]
    }
   ],
   "source": [
    "import sys\n",
    "for param in model.perception.parameters():\n",
    "    param.requires_grad = False\n",
    "for param in model.central_executor.parameters():\n",
    "    param.requires_grad = True\n",
    "optim = torch.optim.Adam(model.parameters(), lr = 2e-4)\n",
    "\n",
    "outputs = model.perception(imgs, masks.long().unsqueeze(1))\n",
    "backbone_features = outputs[\"features\"]\n",
    "\n",
    "\n",
    "for epoch in range(1):\n",
    "    b = 0\n",
    "    backbone_features = model.implementations[\"universal\"](imgs)\n",
    "    context = {\n",
    "        \"end\":logit(all_alives[b].squeeze(-1)),\n",
    "        \"masks\": logit(all_masks[b].permute(2,0,1).flatten(start_dim = 1, end_dim = 2)),\n",
    "        \"features\": backbone_features[b].flatten(start_dim = 0, end_dim = 1),\n",
    "        \"model\": model\n",
    "    }\n",
    "    \n",
    "    loss = 0.0\n",
    "    u1 = 9\n",
    "    u2 = 0\n",
    "    bi = 3\n",
    "\n",
    "    # Forall Grounding\n",
    "    o = Program.parse(p1.format(\"green\")).evaluate({0:context})\n",
    "    loss -= torch.log(torch.sigmoid(o[\"end\"][u1]))\n",
    "    loss -= torch.log(1 - torch.sigmoid(o[\"end\"][u2]))\n",
    "\n",
    "    o = Program.parse(p1.format(\"red\")).evaluate({0:context})\n",
    "    loss -= torch.log(torch.sigmoid(o[\"end\"][u2]))\n",
    "    loss -= torch.log(1 - torch.sigmoid(o[\"end\"][u1]))\n",
    "     \n",
    "    # Existence Grounding\n",
    "    o = Program.parse(p2.format(\"green\")).evaluate({0:context})\n",
    "    loss -= torch.log(torch.sigmoid(o[\"end\"][u1]))\n",
    "    loss -= torch.log(1 - torch.sigmoid(o[\"end\"][u2]))\n",
    "    loss -= torch.log(1 - torch.sigmoid(o[\"end\"][bi]))\n",
    "\n",
    "    o = Program.parse(p2.format(\"red\")).evaluate({0:context})\n",
    "    loss -= torch.log(torch.sigmoid(o[\"end\"][u2]))\n",
    "    loss -= torch.log(1 - torch.sigmoid(o[\"end\"][u1]))\n",
    "    loss -= torch.log(1 - torch.sigmoid(o[\"end\"][bi]))\n",
    "\n",
    "\n",
    "    optim.zero_grad()\n",
    "    loss.backward()\n",
    "    optim.step()\n",
    "    vr=model.get_concept_embedding(\"green\")\n",
    "    vg=model.get_concept_embedding(\"red\")\n",
    "    sys.stdout.write(f\"\\repoch:{epoch} loss:{loss} cos:{torch.cosine_similarity(vr,vg)}\")"
   ]
  },
  {
   "cell_type": "code",
   "execution_count": 160,
   "metadata": {},
   "outputs": [],
   "source": [
    "torch.save(model.central_executor.state_dict(),\"checkpoints/KFT_knowledge.pth\")"
   ]
  },
  {
   "cell_type": "code",
   "execution_count": 38,
   "metadata": {},
   "outputs": [
    {
     "name": "stdout",
     "output_type": "stream",
     "text": [
      "shape:[64, 64] max:0.44887593388557434 min:0.16973961889743805\n",
      "shape:[64, 64] max:0.6914770603179932 min:0.20118001103401184\n",
      "shape:[64, 64] max:0.6401686668395996 min:0.32410284876823425\n",
      "shape:[64, 64] max:0.811677873134613 min:0.510192334651947\n"
     ]
    },
    {
     "data": {
      "image/png": "[encoded data removed]",
      "text/plain": [
       "<Figure size 432x288 with 4 Axes>"
      ]
     },
     "metadata": {
      "needs_background": "light"
     },
     "output_type": "display_data"
    }
   ],
   "source": [
    "\"\"\"Evaluate the Property Map\"\"\"\n",
    "from rinarak.utils.tensor import stats_summary\n",
    "\n",
    "def visualize_concept_maps(concept_name):\n",
    "    import math\n",
    "    mapper = model.implementations[concept_name]\n",
    "    concept_feature_map = mapper(context[\"features\"])\n",
    "\n",
    "    values = model.domain.predicates[]\n",
    "    values = [\"red\", \"green\", \"blue\",\"not-any-color\"]\n",
    "\n",
    "    W = H = math.sqrt(concept_feature_map.shape[0])\n",
    "    for i,value in enumerate(values):\n",
    "        value_map = model.entailment(concept_feature_map, model.get_concept_embedding(value)).reshape([W,H])\n",
    "        plt.subplot(1, len(values), i+1)\n",
    "        plt.imshow(value_map.sigmoid().detach(), cmap = \"bone\")\n",
    "        plt.title(value)\n",
    "\n",
    "visualize_concept_maps(\"color\")"
   ]
  },
  {
   "cell_type": "code",
   "execution_count": 331,
   "metadata": {},
   "outputs": [],
   "source": [
    "from torchvision import transforms\n",
    "from torch.utils.data import Dataset,DataLoader\n",
    "from PIL import Image\n",
    "import os\n",
    "\"\"\"Load Dataset Sprite Base\"\"\"\n",
    "class Tetrominoes(Dataset):\n",
    "    def __init__(self,mode = \"images\"):\n",
    "        super().__init__()\n",
    "        self.path = \"/Users/melkor/Documents/datasets/tetrominoes\"\n",
    "        self.resolution = [35,35]\n",
    "        self.resolution = [64,64]\n",
    "        self.mode = mode\n",
    "\n",
    "        self.img_transform = transforms.Compose(\n",
    "            [transforms.ToTensor()]\n",
    "        )\n",
    "\n",
    "    def __len__(self): return 200\n",
    "        #return len(self.question_file)\n",
    "\n",
    "    def __getitem__(self,index):\n",
    "        image = Image.open(os.path.join(self.path,self.mode,\"{}.png\".format(index)))\n",
    "        image = image.convert(\"RGB\").resize(self.resolution) \n",
    "        image = self.img_transform(image) * 255.0\n",
    "\n",
    "        return {\"image\":image.permute([1,2,0])}\n",
    "\n",
    "\n",
    "\n",
    "class Clevr4(Dataset):\n",
    "    def __init__(self, stage=0,path = \"/Users/melkor/Documents/datasets/clevr4/CLEVR_new_{}.png\"):\n",
    "        super().__init__()\n",
    "        self.path = path\n",
    "        #self.images = sorted(glob(self.path))\n",
    "        self.img_transform = transforms.Compose(\n",
    "            [transforms.ToTensor()]\n",
    "        )\n",
    "\n",
    "    def __len__(self):\n",
    "        return 200\n",
    "\n",
    "    def __getitem__(self, index):\n",
    "        index = \"000000\" + str(index)\n",
    "        image = Image.open(self.path.format(index[-6:]))\n",
    "        image = image.convert(\"RGB\").resize([64,64])\n",
    "        image = self.img_transform(image)\n",
    "        sample = {\"image\":image.permute([1,2,0])}\n",
    "        return sample\n",
    "\n",
    "dataset = Clevr4()\n",
    "#dataset = Tetrominoes()\n",
    "loader = DataLoader(dataset, batch_size = 1, shuffle = True)"
   ]
  },
  {
   "cell_type": "code",
   "execution_count": 332,
   "metadata": {},
   "outputs": [
    {
     "data": {
      "text/plain": [
       "<matplotlib.image.AxesImage at 0x2980cecd0>"
      ]
     },
     "execution_count": 332,
     "metadata": {},
     "output_type": "execute_result"
    },
    {
     "data": {
      "image/png": "[encoded data removed]",
      "text/plain": [
       "<Figure size 432x288 with 1 Axes>"
      ]
     },
     "metadata": {
      "needs_background": "light"
     },
     "output_type": "display_data"
    }
   ],
   "source": [
    "for sample in loader: break\n",
    "imgs = sample[\"image\"]\n",
    "plt.subplot(121);plt.imshow(imgs[0])\n"
   ]
  },
  {
   "cell_type": "code",
   "execution_count": 333,
   "metadata": {},
   "outputs": [
    {
     "name": "stdout",
     "output_type": "stream",
     "text": [
      "torch.Size([1, 4, 64, 64])\n",
      "red\n"
     ]
    },
    {
     "data": {
      "image/png": "[encoded data removed]",
      "text/plain": [
       "<Figure size 432x288 with 1 Axes>"
      ]
     },
     "metadata": {
      "needs_background": "light"
     },
     "output_type": "display_data"
    },
    {
     "name": "stdout",
     "output_type": "stream",
     "text": [
      "shape:[64, 64] max:0.8743876218795776 min:-0.6690669059753418\n",
      "green\n"
     ]
    },
    {
     "data": {
      "image/png": "[encoded data removed]",
      "text/plain": [
       "<Figure size 432x288 with 1 Axes>"
      ]
     },
     "metadata": {
      "needs_background": "light"
     },
     "output_type": "display_data"
    },
    {
     "name": "stdout",
     "output_type": "stream",
     "text": [
      "shape:[64, 64] max:0.3330230712890625 min:-1.2129491567611694\n",
      "blue\n"
     ]
    },
    {
     "data": {
      "image/png": "[encoded data removed]",
      "text/plain": [
       "<Figure size 432x288 with 1 Axes>"
      ]
     },
     "metadata": {
      "needs_background": "light"
     },
     "output_type": "display_data"
    },
    {
     "name": "stdout",
     "output_type": "stream",
     "text": [
      "shape:[64, 64] max:0.7055693864822388 min:-0.8151358366012573\n",
      "not-any-color\n"
     ]
    },
    {
     "data": {
      "image/png": "[encoded data removed]",
      "text/plain": [
       "<Figure size 432x288 with 1 Axes>"
      ]
     },
     "metadata": {
      "needs_background": "light"
     },
     "output_type": "display_data"
    },
    {
     "name": "stdout",
     "output_type": "stream",
     "text": [
      "shape:[64, 64] max:0.7419586181640625 min:-1.001495122909546\n"
     ]
    }
   ],
   "source": [
    "mapper = model.implementations[\"color\"]\n",
    "input_imgs = imgs.permute(0,3,1,2)\n",
    "B, D, W, H= input_imgs.shape\n",
    "\n",
    "cat_im = torch.cat([input_imgs, torch.ones(B,1,W,H)], dim = 1)\n",
    "print(cat_im.shape)\n",
    "features = backbone_features = model.implementations[\"universal\"](cat_im)\n",
    "concept_feature_map = mapper(features)\n",
    "value_feature_maps = []\n",
    "for value in [\"red\", \"green\", \"blue\",\"not-any-color\"]:\n",
    "    print(value)\n",
    "    value_map = model.entailment(concept_feature_map, model.get_concept_embedding(value)).reshape([64,64])\n",
    "    plt.imshow(value_map.sigmoid().detach())\n",
    "    plt.show()\n",
    "    stats_summary(value_map)"
   ]
  }
 ],
 "metadata": {
  "interpreter": {
   "hash": "a47e46093c771f9510c4aabf3710bfb1355e5f870a13f8c22092f45d4d23626d"
  },
  "kernelspec": {
   "display_name": "Python 3.9.13 ('Melkor')",
   "language": "python",
   "name": "python3"
  },
  "language_info": {
   "codemirror_mode": {
    "name": "ipython",
    "version": 3
   },
   "file_extension": ".py",
   "mimetype": "text/x-python",
   "name": "python",
   "nbconvert_exporter": "python",
   "pygments_lexer": "ipython3",
   "version": "3.9.13"
  },
  "orig_nbformat": 4
 },
 "nbformat": 4,
 "nbformat_minor": 2
}
