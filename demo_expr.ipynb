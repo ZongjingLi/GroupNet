{
 "cells": [
  {
   "cell_type": "code",
   "execution_count": 4,
   "metadata": {},
   "outputs": [],
   "source": [
    "import torch\n",
    "import torch.nn as nn\n",
    "import matplotlib.pyplot as plt\n",
    "from mvcl.model import MetaVisualLearner\n",
    "from mvcl.config import config\n",
    "\n",
    "from datasets.sprites_base_dataset import SpritesBaseDataset\n",
    "from rinarak.utils.tensor import logit, stats_summary\n",
    "from rinarak.program import Program"
   ]
  },
  {
   "cell_type": "code",
   "execution_count": 5,
   "metadata": {},
   "outputs": [],
   "source": [
    "from rinarak.domain import *\n",
    "domain_parser = Domain(\"mvcl/base.grammar\")\n",
    "meta_domain_str = f\"\"\"\n",
    "(domain demo)\n",
    "(:type\n",
    "    object - vector[float,100]\n",
    "    position - vector[float,2]\n",
    "    color - vector[float, 64]\n",
    "    category\n",
    ")\n",
    "(:predicate\n",
    "    color ?x-object -> vector[float,100]\n",
    "    shape ?x-object -> vector[float,100]\n",
    "\n",
    "    red ?x-color -> boolean\n",
    "    blue ?x-color -> boolean\n",
    "    green ?x-color -> boolean\n",
    "    not-any-color ?x-color -> boolean\n",
    "\n",
    "    square ?x-shape -> boolean\n",
    "    circle ?x-shape -> boolean\n",
    "    diamond ?x-shape -> boolean\n",
    "    not-any-shape ?x-shape -> boolean\n",
    ")\n",
    "(:derived\n",
    "    is-good ?x-color expr: (??f ?x)\n",
    "\n",
    ")\n",
    "(:constraint\n",
    "    (color: red blue green not-any-color)\n",
    "    (shape: square circle diamond not-any-shape)\n",
    ")\n",
    "\"\"\"\n",
    "domain = load_domain_string(meta_domain_str, domain_parser)"
   ]
  },
  {
   "cell_type": "code",
   "execution_count": 6,
   "metadata": {},
   "outputs": [],
   "source": [
    "\"\"\"Load Dataset Sprite Base\"\"\"\n",
    "from torch.utils.data import DataLoader, Dataset\n",
    "dataset = SpritesBaseDataset(\"train\")\n",
    "loader = DataLoader(dataset, batch_size = 1, shuffle = True)"
   ]
  },
  {
   "cell_type": "code",
   "execution_count": 7,
   "metadata": {},
   "outputs": [
    {
     "name": "stdout",
     "output_type": "stream",
     "text": [
      "32\n"
     ]
    },
    {
     "data": {
      "text/plain": [
       "<All keys matched successfully>"
      ]
     },
     "execution_count": 7,
     "metadata": {},
     "output_type": "execute_result"
    }
   ],
   "source": [
    "from mvcl.custom import build_custom\n",
    "config.concept_type = \"cone\"\n",
    "#config.concept_dim = 100\n",
    "print(config.concept_dim)\n",
    "model = MetaVisualLearner(domain, config)\n",
    "model = build_custom(model, domain.domain_name)\n",
    "#model.perception.load_state_dict(torch.load(\"checkpoints/KFT_percept_backup.pth\"))\n",
    "model.central_executor.load_state_dict(torch.load(\"checkpoints/KFT_knowledge_backup.pth\"))"
   ]
  },
  {
   "cell_type": "code",
   "execution_count": 13,
   "metadata": {},
   "outputs": [
    {
     "data": {
      "image/png": "[encoded data removed]",
      "text/plain": [
       "<Figure size 432x288 with 2 Axes>"
      ]
     },
     "metadata": {
      "needs_background": "light"
     },
     "output_type": "display_data"
    }
   ],
   "source": [
    "for sample in loader: break\n",
    "imgs = sample[\"img\"];masks = sample[\"masks\"]\n",
    "plt.subplot(121);plt.imshow(imgs[0].permute(1,2,0))\n",
    "plt.savefig(\"outputs/input_image.png\", bbox_inches='tight')\n",
    "plt.subplot(122);plt.imshow(masks[0])\n",
    "plt.savefig(\"outputs/gt_masks.png\", bbox_inches='tight')"
   ]
  },
  {
   "cell_type": "code",
   "execution_count": 14,
   "metadata": {},
   "outputs": [],
   "source": [
    "def to_instance_masks(one_hot_masks):\n",
    "    ids = torch.unique(one_hot_masks)\n",
    "    masks = []\n",
    "    for i in ids:\n",
    "        masks.append((one_hot_masks == i).unsqueeze(0))\n",
    "    masks = torch.cat(masks, dim = 1) \n",
    "    return masks\n",
    "\n",
    "all_masks = to_instance_masks(masks)\n"
   ]
  },
  {
   "cell_type": "code",
   "execution_count": 15,
   "metadata": {},
   "outputs": [
    {
     "name": "stdout",
     "output_type": "stream",
     "text": [
      "tensor([1., 1.])\n"
     ]
    },
    {
     "data": {
      "image/png": "[encoded data removed]",
      "text/plain": [
       "<Figure size 432x288 with 2 Axes>"
      ]
     },
     "metadata": {
      "needs_background": "light"
     },
     "output_type": "display_data"
    }
   ],
   "source": [
    "percept_outputs = model.perception(imgs, masks.unsqueeze(0).long())\n",
    "all_masks = percept_outputs[\"masks\"]\n",
    "\n",
    "all_masks = to_instance_masks(masks)\n",
    "all_alives = percept_outputs[\"alive\"]\n",
    "all_alives = torch.ones(all_masks.shape[:2])\n",
    "\n",
    "for i in range(all_masks.shape[1]):\n",
    "    plt.subplot(2,5,1+i);plt.imshow(all_masks[0,i,:,:])\n",
    "print(all_alives.flatten())"
   ]
  },
  {
   "cell_type": "code",
   "execution_count": 16,
   "metadata": {},
   "outputs": [],
   "source": [
    "backbone_features = model.implementations[\"universal\"](imgs)\n",
    "b = 0\n",
    "context = {\n",
    "        \"end\":logit(all_alives[b].squeeze(-1)),\n",
    "        \"masks\": logit(all_masks[b].permute(2,0,1).flatten(start_dim = 1, end_dim = 2)),\n",
    "        \"features\": backbone_features[b].flatten(start_dim = 0, end_dim = 1),\n",
    "        \"model\": model\n",
    "    }"
   ]
  },
  {
   "cell_type": "code",
   "execution_count": 52,
   "metadata": {},
   "outputs": [
    {
     "data": {
      "image/png": "[encoded data removed]",
      "text/plain": [
       "<Figure size 432x288 with 4 Axes>"
      ]
     },
     "metadata": {
      "needs_background": "light"
     },
     "output_type": "display_data"
    },
    {
     "data": {
      "image/png": "[encoded data removed]",
      "text/plain": [
       "<Figure size 432x288 with 4 Axes>"
      ]
     },
     "metadata": {
      "needs_background": "light"
     },
     "output_type": "display_data"
    }
   ],
   "source": [
    "\"\"\"Evaluate the Property Map\"\"\"\n",
    "from rinarak.utils.tensor import stats_summary\n",
    "\n",
    "def visualize_concept_maps(concept_name, features, model):\n",
    "    import math\n",
    "    mapper = model.implementations[concept_name]\n",
    "\n",
    "    concept_feature_map = mapper(features)\n",
    "\n",
    "    values = model.central_executor.type_constraints[concept_name]\n",
    "\n",
    "    W = H = int(math.sqrt(concept_feature_map.shape[1]))\n",
    "\n",
    "    prob_values = []\n",
    "    for i,value in enumerate(values):\n",
    "        value_map = model.entailment(concept_feature_map, value).reshape([W,H])\n",
    "        prob_values.append(value_map.unsqueeze(-1))\n",
    "        plt.subplot(1, len(values), i+1)\n",
    "        plt.imshow(value_map.sigmoid().detach(), cmap = \"bone\")\n",
    "        plt.title(value)\n",
    "    prob_values = torch.cat(prob_values, dim = -1)\n",
    "    #print(prob_values.shape)\n",
    "    #plt.figure(\"namo\")\n",
    "    #stats_summary(prob_values.softmax(dim = -1).sum(-1))\n",
    "    #plt.imshow(prob_values.sigmoid().sum(-1).detach())\n",
    "    #print(prob_values)\n",
    "    #print(prob_values.softmax(dim = -1))\n",
    "\n",
    "#print(context[\"features\"].shape)\n",
    "visualize_concept_maps(\"color\", context[\"features\"].unsqueeze(0), model)\n",
    "plt.show()\n",
    "visualize_concept_maps(\"shape\", context[\"features\"].unsqueeze(0), model)"
   ]
  },
  {
   "cell_type": "code",
   "execution_count": 35,
   "metadata": {},
   "outputs": [],
   "source": [
    "from torchvision import transforms\n",
    "from torch.utils.data import Dataset,DataLoader\n",
    "from PIL import Image\n",
    "import os\n",
    "\"\"\"Load Dataset Sprite Base\"\"\"\n",
    "class Tetrominoes(Dataset):\n",
    "    def __init__(self,mode = \"images\"):\n",
    "        super().__init__()\n",
    "        self.path = \"/Users/melkor/Documents/datasets/tetrominoes\"\n",
    "        self.resolution = [35,35]\n",
    "        self.resolution = [64,64]\n",
    "        self.mode = mode\n",
    "\n",
    "        self.img_transform = transforms.Compose(\n",
    "            [transforms.ToTensor()]\n",
    "        )\n",
    "\n",
    "    def __len__(self): return 200\n",
    "        #return len(self.question_file)\n",
    "\n",
    "    def __getitem__(self,index):\n",
    "        image = Image.open(os.path.join(self.path,self.mode,\"{}.png\".format(index)))\n",
    "        image = image.convert(\"RGB\").resize(self.resolution) \n",
    "        image = self.img_transform(image) * 255.0\n",
    "\n",
    "        return {\"image\":image.permute([1,2,0])}\n",
    "\n",
    "\n",
    "\n",
    "class Clevr4(Dataset):\n",
    "    def __init__(self, stage=0,path = \"/Users/melkor/Documents/datasets/clevr4/CLEVR_new_{}.png\"):\n",
    "        super().__init__()\n",
    "        self.path = path\n",
    "        #self.images = sorted(glob(self.path))\n",
    "        self.img_transform = transforms.Compose(\n",
    "            [transforms.ToTensor()]\n",
    "        )\n",
    "\n",
    "    def __len__(self):\n",
    "        return 200\n",
    "\n",
    "    def __getitem__(self, index):\n",
    "        index = \"000000\" + str(index)\n",
    "        image = Image.open(self.path.format(index[-6:]))\n",
    "        image = image.convert(\"RGB\").resize([64,64])\n",
    "        image = self.img_transform(image)\n",
    "        sample = {\"image\":image.permute([1,2,0])}\n",
    "        return sample\n",
    "\n",
    "dataset = Clevr4()\n",
    "dataset = Tetrominoes()\n",
    "loader = DataLoader(dataset, batch_size = 1, shuffle = True)"
   ]
  },
  {
   "cell_type": "code",
   "execution_count": 49,
   "metadata": {},
   "outputs": [
    {
     "name": "stderr",
     "output_type": "stream",
     "text": [
      "Clipping input data to the valid range for imshow with RGB data ([0..1] for floats or [0..255] for integers).\n"
     ]
    },
    {
     "data": {
      "text/plain": [
       "<matplotlib.image.AxesImage at 0x2c6b7e4c0>"
      ]
     },
     "execution_count": 49,
     "metadata": {},
     "output_type": "execute_result"
    },
    {
     "data": {
      "image/png": "[encoded data removed]",
      "text/plain": [
       "<Figure size 432x288 with 1 Axes>"
      ]
     },
     "metadata": {
      "needs_background": "light"
     },
     "output_type": "display_data"
    }
   ],
   "source": [
    "for sample in loader: break\n",
    "imgs = sample[\"image\"]\n",
    "plt.subplot(121);plt.imshow(imgs[0])\n"
   ]
  },
  {
   "cell_type": "code",
   "execution_count": 51,
   "metadata": {},
   "outputs": [
    {
     "name": "stdout",
     "output_type": "stream",
     "text": [
      "torch.Size([1, 4, 64, 64])\n",
      "red\n"
     ]
    },
    {
     "data": {
      "image/png": "[encoded data removed]",
      "text/plain": [
       "<Figure size 432x288 with 1 Axes>"
      ]
     },
     "metadata": {
      "needs_background": "light"
     },
     "output_type": "display_data"
    },
    {
     "name": "stdout",
     "output_type": "stream",
     "text": [
      "shape:[64, 64] max:1.1278167963027954 min:-4.080021858215332\n",
      "green\n"
     ]
    },
    {
     "data": {
      "image/png": "[encoded data removed]",
      "text/plain": [
       "<Figure size 432x288 with 1 Axes>"
      ]
     },
     "metadata": {
      "needs_background": "light"
     },
     "output_type": "display_data"
    },
    {
     "name": "stdout",
     "output_type": "stream",
     "text": [
      "shape:[64, 64] max:1.2768510580062866 min:-3.9826149940490723\n",
      "blue\n"
     ]
    },
    {
     "data": {
      "image/png": "[encoded data removed]",
      "text/plain": [
       "<Figure size 432x288 with 1 Axes>"
      ]
     },
     "metadata": {
      "needs_background": "light"
     },
     "output_type": "display_data"
    },
    {
     "name": "stdout",
     "output_type": "stream",
     "text": [
      "shape:[64, 64] max:0.5736227035522461 min:-3.7162463665008545\n",
      "not-any-color\n"
     ]
    },
    {
     "data": {
      "image/png": "[encoded data removed]",
      "text/plain": [
       "<Figure size 432x288 with 1 Axes>"
      ]
     },
     "metadata": {
      "needs_background": "light"
     },
     "output_type": "display_data"
    },
    {
     "name": "stdout",
     "output_type": "stream",
     "text": [
      "shape:[64, 64] max:2.392364501953125 min:-5.730419158935547\n"
     ]
    }
   ],
   "source": [
    "mapper = model.implementations[\"color\"]\n",
    "input_imgs = imgs.permute(0,3,1,2)\n",
    "B, D, W, H= input_imgs.shape\n",
    "\n",
    "cat_im = torch.cat([input_imgs, torch.ones(B,1,W,H)], dim = 1)\n",
    "print(cat_im.shape)\n",
    "features = backbone_features = model.implementations[\"universal\"](cat_im)\n",
    "concept_feature_map = mapper(features)\n",
    "value_feature_maps = []\n",
    "import math\n",
    "W = H = int(math.sqrt(concept_feature_map.shape[1]))\n",
    "for value in [\"red\", \"green\", \"blue\",\"not-any-color\"]:\n",
    "    print(value)\n",
    "    value_map = model.entailment(concept_feature_map, value).reshape([W,H])\n",
    "    plt.imshow(value_map.sigmoid().detach())\n",
    "    plt.show()\n",
    "    stats_summary(value_map)"
   ]
  }
 ],
 "metadata": {
  "interpreter": {
   "hash": "a47e46093c771f9510c4aabf3710bfb1355e5f870a13f8c22092f45d4d23626d"
  },
  "kernelspec": {
   "display_name": "Python 3.9.13 ('Melkor')",
   "language": "python",
   "name": "python3"
  },
  "language_info": {
   "codemirror_mode": {
    "name": "ipython",
    "version": 3
   },
   "file_extension": ".py",
   "mimetype": "text/x-python",
   "name": "python",
   "nbconvert_exporter": "python",
   "pygments_lexer": "ipython3",
   "version": "3.9.13"
  },
  "orig_nbformat": 4
 },
 "nbformat": 4,
 "nbformat_minor": 2
}
